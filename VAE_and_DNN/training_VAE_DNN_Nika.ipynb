{
 "cells": [
  {
   "cell_type": "code",
   "execution_count": 1,
   "metadata": {},
   "outputs": [
    {
     "name": "stderr",
     "output_type": "stream",
     "text": [
      "2022-08-03 15:07:02.495209: W tensorflow/stream_executor/platform/default/dso_loader.cc:64] Could not load dynamic library 'libcudart.so.11.0'; dlerror: libcudart.so.11.0: cannot open shared object file: No such file or directory\n",
      "2022-08-03 15:07:02.495265: I tensorflow/stream_executor/cuda/cudart_stub.cc:29] Ignore above cudart dlerror if you do not have a GPU set up on your machine.\n"
     ]
    },
    {
     "name": "stdout",
     "output_type": "stream",
     "text": [
      "Welcome to JupyROOT 6.26/04\n"
     ]
    }
   ],
   "source": [
    "from sklearn.model_selection import train_test_split\n",
    "from sklearn.preprocessing import MinMaxScaler\n",
    "from sklearn.preprocessing import StandardScaler\n",
    "from sklearn.metrics import roc_curve, roc_auc_score\n",
    "\n",
    "import sys\n",
    "import numpy\n",
    "import pandas as pd\n",
    "import tensorflow as tf\n",
    "from keras import layers\n",
    "import keras\n",
    "\n",
    "\n",
    "#taking the model\n",
    "#from VAE_model_extended_moreDKL import *\n",
    "from VAE_testDK_Reco_Loss import *\n",
    "import matplotlib.pyplot as plt\n",
    "\n",
    "import ROOT"
   ]
  },
  {
   "cell_type": "code",
   "execution_count": 2,
   "metadata": {},
   "outputs": [],
   "source": [
    "ROOT.ROOT.EnableImplicitMT()\n",
    "#RDataFrame = ROOT.RDF.Experimental.Distributed.Spark.RDataFrame"
   ]
  },
  {
   "cell_type": "code",
   "execution_count": 3,
   "metadata": {},
   "outputs": [],
   "source": [
    "DEBUGGING_MODE = True\n",
    "\n",
    "def pdf_summary(pdf, debugging_mode=DEBUGGING_MODE):\n",
    "    print(f\"Pandas DataFrame shape is: {pdf.shape}\")\n",
    "    if debugging_mode:\n",
    "        return pdf.head(1)"
   ]
  },
  {
   "cell_type": "markdown",
   "metadata": {},
   "source": [
    "### variable from the nutple"
   ]
  },
  {
   "cell_type": "code",
   "execution_count": 4,
   "metadata": {},
   "outputs": [],
   "source": [
    "#pd_variables = ['deltaetajj', 'deltaphijj', 'etaj1', 'etaj2', 'etal1', 'etal2',\n",
    "#       'met', 'mjj', 'mll',  'ptj1', 'ptj2', 'ptl1',\n",
    "#       'ptl2', 'ptll']#,'phij1', 'phij2', 'w']\n",
    "#kinematicFilter = \"ptj1 > 30 && ptj2 >30 && deltaetajj>2 && mjj>200\"\n",
    "kinematicFilter = \"ptj1 > 30 && abs(etaj1-etaj2) > 2. && ptj2 >30 && mjj>200\"\n",
    "ntuple_location = \"../../ntuples4Momentum/\""
   ]
  },
  {
   "cell_type": "code",
   "execution_count": 5,
   "metadata": {},
   "outputs": [],
   "source": [
    "dfSM = ROOT.RDataFrame(\"SSWW_SM\",ntuple_location+\"ntuple_SSWW_SM.root\")\n",
    "dfSM = dfSM.Filter(kinematicFilter)\n",
    "dfBSM = ROOT.RDataFrame(\"SSWW_cW_QU\",ntuple_location+\"ntuple_SSWW_cW_QU.root\")\n",
    "dfBSM = dfBSM.Filter(kinematicFilter)\n",
    "np_SM = dfSM.AsNumpy()\n",
    "wSM = dfSM.AsNumpy([\"w\"])\n",
    "npd = pd.DataFrame.from_dict(np_SM)\n",
    "wpdSM = pd.DataFrame.from_dict(wSM)\n",
    "# Take all columns og dfBSM because of using RDateFrame.AsNumpy() without any filter\n",
    "np_BSM = dfBSM.AsNumpy()\n",
    "wBSM = dfBSM.AsNumpy([\"w\"])\n",
    "npd_BSM = pd.DataFrame.from_dict(np_BSM)\n",
    "wpdBSM = pd.DataFrame.from_dict(wBSM)"
   ]
  },
  {
   "cell_type": "code",
   "execution_count": 6,
   "metadata": {},
   "outputs": [],
   "source": [
    "def clean_dataset(df):\n",
    "    assert isinstance(df, pd.DataFrame), \"df needs to be a pd.DataFrame\"\n",
    "    df.dropna(inplace=True)\n",
    "    indices_to_keep = ~df.isin([np.nan, np.inf, -np.inf]).any(1)\n",
    "    return df[indices_to_keep].astype(np.float64)\n",
    "\n",
    "npd = clean_dataset(npd) \n",
    "wpdSM = clean_dataset(wpdSM)\n",
    "npd_BSM = clean_dataset(npd_BSM)\n",
    "wpdBSM = clean_dataset(wpdBSM)"
   ]
  },
  {
   "cell_type": "code",
   "execution_count": 7,
   "metadata": {},
   "outputs": [
    {
     "name": "stdout",
     "output_type": "stream",
     "text": [
      "Pandas DataFrame shape is: (895962, 28)\n"
     ]
    },
    {
     "data": {
      "text/html": [
       "<div>\n",
       "<style scoped>\n",
       "    .dataframe tbody tr th:only-of-type {\n",
       "        vertical-align: middle;\n",
       "    }\n",
       "\n",
       "    .dataframe tbody tr th {\n",
       "        vertical-align: top;\n",
       "    }\n",
       "\n",
       "    .dataframe thead th {\n",
       "        text-align: right;\n",
       "    }\n",
       "</style>\n",
       "<table border=\"1\" class=\"dataframe\">\n",
       "  <thead>\n",
       "    <tr style=\"text-align: right;\">\n",
       "      <th></th>\n",
       "      <th>Ej1</th>\n",
       "      <th>Ej2</th>\n",
       "      <th>El1</th>\n",
       "      <th>El2</th>\n",
       "      <th>etaj1</th>\n",
       "      <th>etaj2</th>\n",
       "      <th>etal1</th>\n",
       "      <th>etal2</th>\n",
       "      <th>met</th>\n",
       "      <th>mjj</th>\n",
       "      <th>...</th>\n",
       "      <th>pxl1</th>\n",
       "      <th>pxl2</th>\n",
       "      <th>pyj1</th>\n",
       "      <th>pyj2</th>\n",
       "      <th>pyl1</th>\n",
       "      <th>pyl2</th>\n",
       "      <th>pzj1</th>\n",
       "      <th>pzj2</th>\n",
       "      <th>pzl1</th>\n",
       "      <th>pzl2</th>\n",
       "    </tr>\n",
       "  </thead>\n",
       "  <tbody>\n",
       "    <tr>\n",
       "      <th>0</th>\n",
       "      <td>303.458801</td>\n",
       "      <td>701.662598</td>\n",
       "      <td>66.335213</td>\n",
       "      <td>61.839161</td>\n",
       "      <td>-1.531009</td>\n",
       "      <td>1.705899</td>\n",
       "      <td>-1.010756</td>\n",
       "      <td>0.059856</td>\n",
       "      <td>115.725586</td>\n",
       "      <td>914.647095</td>\n",
       "      <td>...</td>\n",
       "      <td>37.129974</td>\n",
       "      <td>-46.985771</td>\n",
       "      <td>18.432892</td>\n",
       "      <td>-183.381699</td>\n",
       "      <td>20.959143</td>\n",
       "      <td>40.034378</td>\n",
       "      <td>-276.328735</td>\n",
       "      <td>656.85614</td>\n",
       "      <td>-50.817711</td>\n",
       "      <td>3.697025</td>\n",
       "    </tr>\n",
       "  </tbody>\n",
       "</table>\n",
       "<p>1 rows × 28 columns</p>\n",
       "</div>"
      ],
      "text/plain": [
       "          Ej1         Ej2        El1        El2     etaj1     etaj2     etal1  \\\n",
       "0  303.458801  701.662598  66.335213  61.839161 -1.531009  1.705899 -1.010756   \n",
       "\n",
       "      etal2         met         mjj  ...       pxl1       pxl2       pyj1  \\\n",
       "0  0.059856  115.725586  914.647095  ...  37.129974 -46.985771  18.432892   \n",
       "\n",
       "         pyj2       pyl1       pyl2        pzj1       pzj2       pzl1  \\\n",
       "0 -183.381699  20.959143  40.034378 -276.328735  656.85614 -50.817711   \n",
       "\n",
       "       pzl2  \n",
       "0  3.697025  \n",
       "\n",
       "[1 rows x 28 columns]"
      ]
     },
     "execution_count": 7,
     "metadata": {},
     "output_type": "execute_result"
    }
   ],
   "source": [
    "npd.drop(['w','phil1','phil2',\"phij1\",\"phij2\"],axis='columns', inplace=True)\n",
    "pdf_summary(npd)"
   ]
  },
  {
   "cell_type": "code",
   "execution_count": 8,
   "metadata": {},
   "outputs": [],
   "source": [
    "npd_BSM.drop(['w','phil1','phil2',\"phij1\",\"phij2\"],axis='columns', inplace=True)"
   ]
  },
  {
   "cell_type": "code",
   "execution_count": 9,
   "metadata": {},
   "outputs": [],
   "source": [
    "nEntries = 3000000\n",
    "npd = npd.head(nEntries)\n",
    "npd_BSM = npd_BSM.head(nEntries)\n",
    "wpdSM = wpdSM.head(nEntries)\n",
    "wpdBSM = wpdBSM.head(nEntries)"
   ]
  },
  {
   "cell_type": "code",
   "execution_count": 10,
   "metadata": {},
   "outputs": [
    {
     "name": "stdout",
     "output_type": "stream",
     "text": [
      "Pandas DataFrame shape is: (895962, 28)\n"
     ]
    },
    {
     "data": {
      "text/html": [
       "<div>\n",
       "<style scoped>\n",
       "    .dataframe tbody tr th:only-of-type {\n",
       "        vertical-align: middle;\n",
       "    }\n",
       "\n",
       "    .dataframe tbody tr th {\n",
       "        vertical-align: top;\n",
       "    }\n",
       "\n",
       "    .dataframe thead th {\n",
       "        text-align: right;\n",
       "    }\n",
       "</style>\n",
       "<table border=\"1\" class=\"dataframe\">\n",
       "  <thead>\n",
       "    <tr style=\"text-align: right;\">\n",
       "      <th></th>\n",
       "      <th>Ej1</th>\n",
       "      <th>Ej2</th>\n",
       "      <th>El1</th>\n",
       "      <th>El2</th>\n",
       "      <th>etaj1</th>\n",
       "      <th>etaj2</th>\n",
       "      <th>etal1</th>\n",
       "      <th>etal2</th>\n",
       "      <th>met</th>\n",
       "      <th>mjj</th>\n",
       "      <th>...</th>\n",
       "      <th>pxl1</th>\n",
       "      <th>pxl2</th>\n",
       "      <th>pyj1</th>\n",
       "      <th>pyj2</th>\n",
       "      <th>pyl1</th>\n",
       "      <th>pyl2</th>\n",
       "      <th>pzj1</th>\n",
       "      <th>pzj2</th>\n",
       "      <th>pzl1</th>\n",
       "      <th>pzl2</th>\n",
       "    </tr>\n",
       "  </thead>\n",
       "  <tbody>\n",
       "    <tr>\n",
       "      <th>0</th>\n",
       "      <td>2.4821</td>\n",
       "      <td>2.846128</td>\n",
       "      <td>1.821744</td>\n",
       "      <td>1.791264</td>\n",
       "      <td>-1.531009</td>\n",
       "      <td>1.705899</td>\n",
       "      <td>-1.010756</td>\n",
       "      <td>0.059856</td>\n",
       "      <td>2.063429</td>\n",
       "      <td>2.961254</td>\n",
       "      <td>...</td>\n",
       "      <td>37.129974</td>\n",
       "      <td>-46.985771</td>\n",
       "      <td>18.432892</td>\n",
       "      <td>-183.381699</td>\n",
       "      <td>20.959143</td>\n",
       "      <td>40.034378</td>\n",
       "      <td>-276.328735</td>\n",
       "      <td>656.85614</td>\n",
       "      <td>-50.817711</td>\n",
       "      <td>3.697025</td>\n",
       "    </tr>\n",
       "  </tbody>\n",
       "</table>\n",
       "<p>1 rows × 28 columns</p>\n",
       "</div>"
      ],
      "text/plain": [
       "      Ej1       Ej2       El1       El2     etaj1     etaj2     etal1  \\\n",
       "0  2.4821  2.846128  1.821744  1.791264 -1.531009  1.705899 -1.010756   \n",
       "\n",
       "      etal2       met       mjj  ...       pxl1       pxl2       pyj1  \\\n",
       "0  0.059856  2.063429  2.961254  ...  37.129974 -46.985771  18.432892   \n",
       "\n",
       "         pyj2       pyl1       pyl2        pzj1       pzj2       pzl1  \\\n",
       "0 -183.381699  20.959143  40.034378 -276.328735  656.85614 -50.817711   \n",
       "\n",
       "       pzl2  \n",
       "0  3.697025  \n",
       "\n",
       "[1 rows x 28 columns]"
      ]
     },
     "execution_count": 10,
     "metadata": {},
     "output_type": "execute_result"
    }
   ],
   "source": [
    "# #to be done for all the pt and mass and met variables\n",
    "for var in ['met', 'mjj', 'mll', 'ptj1', 'ptj2', 'ptl1',\n",
    "            'ptl2', 'ptll',\"Ej1\",\"Ej2\",\"El1\",\"El2\"]:\n",
    "   npd[var] = np.log10(npd[var])\n",
    "   npd_BSM[var] = np.log10(npd_BSM[var])\n",
    "pdf_summary(npd)"
   ]
  },
  {
   "cell_type": "markdown",
   "metadata": {},
   "source": [
    "### Combining SM and BSM data"
   ]
  },
  {
   "cell_type": "code",
   "execution_count": 11,
   "metadata": {},
   "outputs": [],
   "source": [
    "Y_true_SM = np.full(npd.shape[0],0)\n",
    "Y_true_BSM = np.full(npd_BSM.shape[0],1)\n",
    "labels_arr = np.concatenate((Y_true_SM,Y_true_BSM))"
   ]
  },
  {
   "cell_type": "code",
   "execution_count": 12,
   "metadata": {},
   "outputs": [
    {
     "name": "stdout",
     "output_type": "stream",
     "text": [
      "Pandas DataFrame shape is: (1550423, 29)\n"
     ]
    },
    {
     "data": {
      "text/html": [
       "<div>\n",
       "<style scoped>\n",
       "    .dataframe tbody tr th:only-of-type {\n",
       "        vertical-align: middle;\n",
       "    }\n",
       "\n",
       "    .dataframe tbody tr th {\n",
       "        vertical-align: top;\n",
       "    }\n",
       "\n",
       "    .dataframe thead th {\n",
       "        text-align: right;\n",
       "    }\n",
       "</style>\n",
       "<table border=\"1\" class=\"dataframe\">\n",
       "  <thead>\n",
       "    <tr style=\"text-align: right;\">\n",
       "      <th></th>\n",
       "      <th>Ej1</th>\n",
       "      <th>Ej2</th>\n",
       "      <th>El1</th>\n",
       "      <th>El2</th>\n",
       "      <th>etaj1</th>\n",
       "      <th>etaj2</th>\n",
       "      <th>etal1</th>\n",
       "      <th>etal2</th>\n",
       "      <th>met</th>\n",
       "      <th>mjj</th>\n",
       "      <th>...</th>\n",
       "      <th>pxl2</th>\n",
       "      <th>pyj1</th>\n",
       "      <th>pyj2</th>\n",
       "      <th>pyl1</th>\n",
       "      <th>pyl2</th>\n",
       "      <th>pzj1</th>\n",
       "      <th>pzj2</th>\n",
       "      <th>pzl1</th>\n",
       "      <th>pzl2</th>\n",
       "      <th>labels</th>\n",
       "    </tr>\n",
       "  </thead>\n",
       "  <tbody>\n",
       "    <tr>\n",
       "      <th>650276</th>\n",
       "      <td>2.055217</td>\n",
       "      <td>3.036463</td>\n",
       "      <td>2.190459</td>\n",
       "      <td>2.77012</td>\n",
       "      <td>1.718473</td>\n",
       "      <td>-1.925987</td>\n",
       "      <td>-1.528222</td>\n",
       "      <td>1.989756</td>\n",
       "      <td>1.982968</td>\n",
       "      <td>2.840309</td>\n",
       "      <td>...</td>\n",
       "      <td>-156.69278</td>\n",
       "      <td>38.022858</td>\n",
       "      <td>-50.719723</td>\n",
       "      <td>35.578259</td>\n",
       "      <td>21.141064</td>\n",
       "      <td>106.48085</td>\n",
       "      <td>-1042.349121</td>\n",
       "      <td>-141.109909</td>\n",
       "      <td>567.388123</td>\n",
       "      <td>1</td>\n",
       "    </tr>\n",
       "  </tbody>\n",
       "</table>\n",
       "<p>1 rows × 29 columns</p>\n",
       "</div>"
      ],
      "text/plain": [
       "             Ej1       Ej2       El1      El2     etaj1     etaj2     etal1  \\\n",
       "650276  2.055217  3.036463  2.190459  2.77012  1.718473 -1.925987 -1.528222   \n",
       "\n",
       "           etal2       met       mjj  ...       pxl2       pyj1       pyj2  \\\n",
       "650276  1.989756  1.982968  2.840309  ... -156.69278  38.022858 -50.719723   \n",
       "\n",
       "             pyl1       pyl2       pzj1         pzj2        pzl1        pzl2  \\\n",
       "650276  35.578259  21.141064  106.48085 -1042.349121 -141.109909  567.388123   \n",
       "\n",
       "        labels  \n",
       "650276       1  \n",
       "\n",
       "[1 rows x 29 columns]"
      ]
     },
     "execution_count": 12,
     "metadata": {},
     "output_type": "execute_result"
    }
   ],
   "source": [
    "samples_df = pd.concat([npd,npd_BSM])\n",
    "samples_df['labels'] = labels_arr\n",
    "samples_df = samples_df.sample(frac=1)\n",
    "pdf_summary(samples_df)"
   ]
  },
  {
   "cell_type": "code",
   "execution_count": 13,
   "metadata": {},
   "outputs": [],
   "source": [
    "shuffled_labels_df = samples_df['labels']\n",
    "shuffled_samples_df = samples_df.drop(['labels'], axis='columns')"
   ]
  },
  {
   "cell_type": "code",
   "execution_count": 14,
   "metadata": {},
   "outputs": [],
   "source": [
    "X_train, X_rem, y_train, y_rem = train_test_split(shuffled_samples_df,\n",
    "                                                  shuffled_labels_df,\n",
    "                                                  train_size=0.8)\n",
    "X_valid, X_test, y_valid, y_test = train_test_split(X_rem,\n",
    "                                                    y_rem, \n",
    "                                                    test_size=0.5)\n",
    "SM_train,SM_test,_,_ = train_test_split(npd, npd, test_size=0.2, random_state=1)\n",
    "BSM_train,BSM_test,_,_ = train_test_split(npd_BSM, npd_BSM, test_size=0.2, random_state=1)\n",
    "#wx_train, wx_test, wy_train, wy_test = train_test_split(wpdSM, wpdSM, test_size=0.2, random_state=1)\n",
    "\n",
    "BSM_train, BSM_test, y_BSM_train, y_BSM_test = train_test_split(npd_BSM, Y_true_BSM, test_size=0.2, random_state=1)\n",
    "#wBSM_train, wBSM_test, _ , _ = train_test_split(wpdBSM, wpdBSM, test_size=0.2, random_state=1)\n",
    "#print wx_train,X_train\n",
    "#wx = wx_train[\"w\"].to_numpy()\n",
    "#wxtest = wx_test[\"w\"].to_numpy()\n",
    "#wBSM = wBSM_train[\"w\"].to_numpy()\n",
    "#wBSMtest = wBSM_test[\"w\"].to_numpy()"
   ]
  },
  {
   "cell_type": "markdown",
   "metadata": {},
   "source": [
    "### scale data"
   ]
  },
  {
   "cell_type": "code",
   "execution_count": 15,
   "metadata": {},
   "outputs": [],
   "source": [
    "scaler = MinMaxScaler()\n",
    "#scaler = StandardScaler()\n",
    "scaler.fit(shuffled_samples_df)\n",
    "scaled_x_train = scaler.transform(X_train)\n",
    "scaled_x_valid = scaler.transform(X_valid)\n",
    "scaled_x_test = scaler.transform(X_test)\n",
    "BSM_test = scaler.transform(BSM_test)"
   ]
  },
  {
   "cell_type": "code",
   "execution_count": 16,
   "metadata": {},
   "outputs": [],
   "source": [
    "n_inputs = npd.shape[1]\n",
    "original_dim = n_inputs\n",
    "\n",
    "intermediate_dim = 50 #50 by default\n",
    "input_dim = 10 #was 20 in default\n",
    "half_input = 7 #was 20 in the newTest\n",
    "latent_dim = 10 #tried 7 as well  #was 3 for optimal performance\n",
    "epochs = 20 #806\n",
    "batch_size=64 #32\n",
    "nameExtenstion = str(intermediate_dim) + \"_\" +\\\n",
    "                 str(input_dim) + \"_\" +\\\n",
    "                 str(half_input) + \"_\" +\\\n",
    "                 str(latent_dim) + \"_\" +\\\n",
    "                 str(epochs) + \"_\" +\\\n",
    "                 str(batch_size)\n"
   ]
  },
  {
   "cell_type": "code",
   "execution_count": 17,
   "metadata": {},
   "outputs": [
    {
     "name": "stderr",
     "output_type": "stream",
     "text": [
      "2022-08-03 15:07:32.760137: W tensorflow/stream_executor/platform/default/dso_loader.cc:64] Could not load dynamic library 'libcuda.so.1'; dlerror: libcuda.so.1: cannot open shared object file: No such file or directory\n",
      "2022-08-03 15:07:32.760196: W tensorflow/stream_executor/cuda/cuda_driver.cc:269] failed call to cuInit: UNKNOWN ERROR (303)\n",
      "2022-08-03 15:07:32.760253: I tensorflow/stream_executor/cuda/cuda_diagnostics.cc:156] kernel driver does not appear to be running on this host (localhost): /proc/driver/nvidia/version does not exist\n",
      "2022-08-03 15:07:32.760804: I tensorflow/core/platform/cpu_feature_guard.cc:193] This TensorFlow binary is optimized with oneAPI Deep Neural Network Library (oneDNN) to use the following CPU instructions in performance-critical operations:  AVX2 FMA\n",
      "To enable them in other operations, rebuild TensorFlow with the appropriate compiler flags.\n"
     ]
    }
   ],
   "source": [
    "vae = VariationalAutoEncoder(\n",
    "                             original_dim, \n",
    "                             intermediate_dim, \n",
    "                             input_dim, \n",
    "                             half_input, \n",
    "                             latent_dim,\n",
    "                             ) "
   ]
  },
  {
   "cell_type": "code",
   "execution_count": 18,
   "metadata": {},
   "outputs": [
    {
     "name": "stdout",
     "output_type": "stream",
     "text": [
      "Epoch 1/20\n",
      "19381/19381 [==============================] - 151s 8ms/step - loss: 0.4102 - binary_accuracy: 0.8529 - val_loss: 0.3822 - val_binary_accuracy: 0.8650\n",
      "Epoch 2/20\n",
      "19381/19381 [==============================] - 140s 7ms/step - loss: 0.3850 - binary_accuracy: 0.8639 - val_loss: 0.3815 - val_binary_accuracy: 0.8652\n",
      "Epoch 3/20\n",
      "19381/19381 [==============================] - 140s 7ms/step - loss: 0.3845 - binary_accuracy: 0.8642 - val_loss: 0.3799 - val_binary_accuracy: 0.8656\n",
      "Epoch 4/20\n",
      "19381/19381 [==============================] - 138s 7ms/step - loss: 0.3845 - binary_accuracy: 0.8644 - val_loss: 0.3819 - val_binary_accuracy: 0.8647\n",
      "Epoch 5/20\n",
      "19381/19381 [==============================] - 147s 8ms/step - loss: 0.3841 - binary_accuracy: 0.8642 - val_loss: 0.3800 - val_binary_accuracy: 0.8654\n",
      "Epoch 6/20\n",
      "19381/19381 [==============================] - 154s 8ms/step - loss: 0.3839 - binary_accuracy: 0.8643 - val_loss: 0.3802 - val_binary_accuracy: 0.8655\n",
      "Epoch 7/20\n",
      "19381/19381 [==============================] - 157s 8ms/step - loss: 0.3840 - binary_accuracy: 0.8645 - val_loss: 0.3800 - val_binary_accuracy: 0.8657\n",
      "Epoch 8/20\n",
      "19381/19381 [==============================] - 145s 7ms/step - loss: 0.3838 - binary_accuracy: 0.8642 - val_loss: 0.3814 - val_binary_accuracy: 0.8654\n",
      "Epoch 9/20\n",
      "19381/19381 [==============================] - 138s 7ms/step - loss: 0.3838 - binary_accuracy: 0.8643 - val_loss: 0.3799 - val_binary_accuracy: 0.8654\n",
      "Epoch 10/20\n",
      "19381/19381 [==============================] - 140s 7ms/step - loss: 0.3836 - binary_accuracy: 0.8641 - val_loss: 0.3801 - val_binary_accuracy: 0.8653\n",
      "Epoch 11/20\n",
      "19381/19381 [==============================] - 134s 7ms/step - loss: 0.3836 - binary_accuracy: 0.8642 - val_loss: 0.3802 - val_binary_accuracy: 0.8652\n",
      "Epoch 12/20\n",
      "19381/19381 [==============================] - 136s 7ms/step - loss: 0.3836 - binary_accuracy: 0.8643 - val_loss: 0.3804 - val_binary_accuracy: 0.8653\n",
      "Epoch 13/20\n",
      "19381/19381 [==============================] - 134s 7ms/step - loss: 0.3836 - binary_accuracy: 0.8644 - val_loss: 0.3805 - val_binary_accuracy: 0.8645\n",
      "Epoch 14/20\n",
      "19381/19381 [==============================] - 141s 7ms/step - loss: 0.3836 - binary_accuracy: 0.8644 - val_loss: 0.3864 - val_binary_accuracy: 0.8624\n",
      "Epoch 15/20\n",
      "19381/19381 [==============================] - 155s 8ms/step - loss: 0.3834 - binary_accuracy: 0.8644 - val_loss: 0.3818 - val_binary_accuracy: 0.8643\n",
      "Epoch 16/20\n",
      "19381/19381 [==============================] - 145s 7ms/step - loss: 0.3834 - binary_accuracy: 0.8643 - val_loss: 0.3803 - val_binary_accuracy: 0.8653\n",
      "Epoch 17/20\n",
      "19381/19381 [==============================] - 135s 7ms/step - loss: 0.3833 - binary_accuracy: 0.8641 - val_loss: 0.3820 - val_binary_accuracy: 0.8646\n",
      "Epoch 18/20\n",
      "19381/19381 [==============================] - 141s 7ms/step - loss: 0.3832 - binary_accuracy: 0.8643 - val_loss: 0.3800 - val_binary_accuracy: 0.8654\n",
      "Epoch 19/20\n",
      "19381/19381 [==============================] - 128s 7ms/step - loss: 0.3833 - binary_accuracy: 0.8642 - val_loss: 0.3832 - val_binary_accuracy: 0.8637\n",
      "Epoch 20/20\n",
      "19381/19381 [==============================] - 133s 7ms/step - loss: 0.3833 - binary_accuracy: 0.8642 - val_loss: 0.3811 - val_binary_accuracy: 0.8648\n"
     ]
    }
   ],
   "source": [
    "#vae.compile(\n",
    "#               optimizer=tf.keras.optimizers.Adam(learning_rate=0.0005),  \n",
    "#               loss=tf.keras.losses.MeanSquaredError()\n",
    "#           )\n",
    "#vae.compile(\n",
    "#               optimizer=tf.keras.optimizers.Adam(learning_rate=0.0005),\n",
    "#               run_eagerly=True, loss=\"binary_crossentropy\",\n",
    "#               metrics = [tf.keras.metrics.BinaryAccuracy()]\n",
    "#           )\n",
    "#vae.compile(\n",
    "#               optimizer=tf.keras.optimizers.Adam(learning_rate=0.0005), \n",
    "#               loss_weights=[0.1],loss=\"binary_crossentropy\",\n",
    "#               metrics = [tf.keras.metrics.BinaryAccuracy()]\n",
    "#           )\n",
    "vae.compile(\n",
    "                optimizer=tf.keras.optimizers.Adam(learning_rate=0.0005),\n",
    "                loss=\"binary_crossentropy\",\n",
    "                metrics = [tf.keras.metrics.BinaryAccuracy()]\n",
    "            )\n",
    "vae_hist = vae.fit(\n",
    "                    scaled_x_train,\n",
    "                    y_train,\n",
    "                    validation_data=(scaled_x_valid, y_valid), \n",
    "                    epochs=epochs, \n",
    "                    batch_size = batch_size\n",
    "                ) "
   ]
  },
  {
   "cell_type": "code",
   "execution_count": 19,
   "metadata": {},
   "outputs": [
    {
     "data": {
      "image/png": "[encoded data removed]",
      "text/plain": [
       "<Figure size 576x360 with 1 Axes>"
      ]
     },
     "metadata": {
      "needs_background": "light"
     },
     "output_type": "display_data"
    }
   ],
   "source": [
    "pd.DataFrame(vae_hist.history).plot(figsize=(8, 5))\n",
    "plt.grid(True)\n",
    "plt.gca().set_ylim(0, 1)\n",
    "plt.show()"
   ]
  },
  {
   "cell_type": "code",
   "execution_count": 20,
   "metadata": {},
   "outputs": [
    {
     "name": "stdout",
     "output_type": "stream",
     "text": [
      "4846/4846 [==============================] - 18s 4ms/step - loss: 10205477813016854528.0000 - binary_accuracy: 0.4219\n"
     ]
    },
    {
     "data": {
      "text/plain": [
       "[1.0205477813016855e+19, 0.4218958616256714]"
      ]
     },
     "execution_count": 20,
     "metadata": {},
     "output_type": "execute_result"
    }
   ],
   "source": [
    "vae.evaluate(X_test, y_test)"
   ]
  },
  {
   "cell_type": "code",
   "execution_count": 21,
   "metadata": {},
   "outputs": [
    {
     "name": "stdout",
     "output_type": "stream",
     "text": [
      "4846/4846 [==============================] - 12s 2ms/step\n"
     ]
    }
   ],
   "source": [
    "encoderDecoder =  EncoderDecoder(original_dim,\n",
    "                                 intermediate_dim,\n",
    "                                 input_dim,\n",
    "                                 half_input,\n",
    "                                 latent_dim)\n",
    "reco = encoderDecoder.predict(scaled_x_test)"
   ]
  },
  {
   "cell_type": "code",
   "execution_count": 22,
   "metadata": {},
   "outputs": [],
   "source": [
    "# keras.models.save_model(encoderDecoder,'encoderDecoder_newModelUsingKL_Reco_Loss_newWayToAddUpSamples_'+nameExtenstion)\n",
    "# keras.models.save_model(vae,'vae_newModelUsingKL_Reco_Loss_newWayToAddUpSamples_'+nameExtenstion)\n",
    "#numpy.savetxt(\"lossVAE_test_newModelDimenstions_MinMaxScaler_\"+nameExtenstion+\".csv\",hist.history[\"loss\"],delimiter=\",\")\n",
    "#vae=tf.keras.models.load_model('vae_test_newModelUsingLatentSpace_'+nameExtenstion)"
   ]
  },
  {
   "cell_type": "code",
   "execution_count": 23,
   "metadata": {},
   "outputs": [
    {
     "name": "stdout",
     "output_type": "stream",
     "text": [
      "5600/5600 [==============================] - 15s 3ms/step\n",
      "4091/4091 [==============================] - 12s 3ms/step\n"
     ]
    }
   ],
   "source": [
    "output_SM = vae.predict(SM_test)\n",
    "output_BSM = vae.predict(BSM_test)"
   ]
  },
  {
   "cell_type": "code",
   "execution_count": 24,
   "metadata": {},
   "outputs": [
    {
     "data": {
      "text/plain": [
       "0"
      ]
     },
     "execution_count": 24,
     "metadata": {},
     "output_type": "execute_result"
    }
   ],
   "source": [
    "np.count_nonzero(np.isnan(output_SM))"
   ]
  },
  {
   "cell_type": "code",
   "execution_count": 25,
   "metadata": {},
   "outputs": [
    {
     "data": {
      "text/plain": [
       "0"
      ]
     },
     "execution_count": 25,
     "metadata": {},
     "output_type": "execute_result"
    }
   ],
   "source": [
    "np.count_nonzero(np.isnan(output_BSM))"
   ]
  },
  {
   "cell_type": "code",
   "execution_count": 26,
   "metadata": {},
   "outputs": [],
   "source": [
    "# print(vae_hist.history)"
   ]
  },
  {
   "cell_type": "code",
   "execution_count": 34,
   "metadata": {},
   "outputs": [],
   "source": [
    "output =  np.concatenate((output_SM,output_BSM))\n",
    "new_output = output[:285936]\n",
    "label_test = np.concatenate((y_test,y_BSM_test))"
   ]
  },
  {
   "cell_type": "code",
   "execution_count": 28,
   "metadata": {},
   "outputs": [],
   "source": [
    "# label_test.isnull().values.any()\n",
    "# numpy.isnan(output).any()\n",
    "# np.dropna(output)\n",
    "# output = output[~numpy.isnan(output)]"
   ]
  },
  {
   "cell_type": "code",
   "execution_count": 35,
   "metadata": {},
   "outputs": [
    {
     "name": "stdout",
     "output_type": "stream",
     "text": [
      "roc_auc_score for VAE_cW_QU:  0.2281195079086116\n"
     ]
    }
   ],
   "source": [
    "# output =  np.concatenate((output_SM,output_BSM))\n",
    "# output = output[~numpy.isnan(output)]\n",
    "# label_test = np.concatenate((y_test,y_BSM_test))\n",
    "new_output = output[:285936]\n",
    "false_positive_rate1, true_positive_rate1, threshold1 = roc_curve(label_test,new_output)\n",
    "print('roc_auc_score for VAE_cW_QU: ', roc_auc_score(label_test,new_output))"
   ]
  },
  {
   "cell_type": "code",
   "execution_count": 36,
   "metadata": {},
   "outputs": [
    {
     "data": {
      "image/png": "[encoded data removed]",
      "text/plain": [
       "<Figure size 700x500 with 1 Axes>"
      ]
     },
     "metadata": {},
     "output_type": "display_data"
    }
   ],
   "source": [
    "bins=100\n",
    "ax = plt.figure(figsize=(7,5), dpi=100, facecolor=\"w\").add_subplot(111)\n",
    "ax.xaxis.grid(True, which=\"major\")\n",
    "ax.yaxis.grid(True, which=\"major\")\n",
    "ax.hist(output_SM,\n",
    "        bins=bins, \n",
    "        density=1,\n",
    "        range=[0.,1.],\n",
    "        histtype=\"step\",\n",
    "        color=\"red\",\n",
    "        alpha=0.6,\n",
    "        linewidth=2,\n",
    "        label=\"SM Output\"\n",
    "        )                        \n",
    "ax.hist(output_BSM,\n",
    "        bins=bins, \n",
    "        density=1,\n",
    "        range=[0.,1.],\n",
    "        histtype=\"step\",\n",
    "        color=\"blue\",\n",
    "        alpha=0.6,\n",
    "        linewidth=2,\n",
    "        label=\"BSM Output\"\n",
    "        )                         \n",
    "plt.rc('legend',fontsize='small')    \n",
    "plt.title(\"SM and BSM classification output\") \n",
    "plt.show()"
   ]
  },
  {
   "cell_type": "code",
   "execution_count": 37,
   "metadata": {},
   "outputs": [
    {
     "data": {
      "image/png": "[encoded data removed]",
      "text/plain": [
       "<Figure size 700x500 with 1 Axes>"
      ]
     },
     "metadata": {},
     "output_type": "display_data"
    }
   ],
   "source": [
    "x_bins = range(len(vae_hist.history[\"loss\"]))\n",
    "ax = plt.figure(figsize=(7,5), dpi=100, facecolor=\"w\").add_subplot(111)\n",
    "ax.xaxis.grid(True, which=\"major\")\n",
    "ax.yaxis.grid(True, which=\"major\")\n",
    "ax.plot(x_bins,vae_hist.history[\"loss\"],color=\"blue\",label=\"training losss\")                        \n",
    "plt.rc('legend',fontsize='small') \n",
    "plt.title(\"loss\")    \n",
    "plt.show()"
   ]
  },
  {
   "cell_type": "code",
   "execution_count": 38,
   "metadata": {},
   "outputs": [
    {
     "data": {
      "image/png": "[encoded data removed]",
      "text/plain": [
       "<Figure size 700x500 with 1 Axes>"
      ]
     },
     "metadata": {},
     "output_type": "display_data"
    }
   ],
   "source": [
    "x_bins = range(len(vae_hist.history[\"binary_accuracy\"]))\n",
    "ax = plt.figure(figsize=(7,5), dpi=100, facecolor=\"w\").add_subplot(111)\n",
    "ax.xaxis.grid(True, which=\"major\")\n",
    "ax.yaxis.grid(True, which=\"major\")\n",
    "ax.plot(x_bins,vae_hist.history[\"binary_accuracy\"],color=\"blue\",label=\"binary accuracy\")                        \n",
    "plt.rc('legend',fontsize='small')   \n",
    "plt.title(\"accuracy diagram\") \n",
    "plt.show()"
   ]
  },
  {
   "cell_type": "code",
   "execution_count": 39,
   "metadata": {},
   "outputs": [
    {
     "data": {
      "image/png": "[encoded data removed]",
      "text/plain": [
       "<Figure size 720x720 with 1 Axes>"
      ]
     },
     "metadata": {
      "needs_background": "light"
     },
     "output_type": "display_data"
    }
   ],
   "source": [
    "plt.subplots(1, figsize=(10,10))\n",
    "plt.title('Receiver Operating Characteristic - VAE')\n",
    "plt.plot(false_positive_rate1, true_positive_rate1,label=nameExtenstion+\"_cW_QU\")\n",
    "plt.plot([0, 1], ls=\"--\")\n",
    "plt.plot([0, 0], [1, 0] , c=\".7\"), plt.plot([1, 1] , c=\".7\")\n",
    "plt.ylabel('True Positive Rate')\n",
    "plt.xlabel('False Positive Rate')\n",
    "plt.legend()\n",
    "plt.show()"
   ]
  },
  {
   "cell_type": "code",
   "execution_count": null,
   "metadata": {},
   "outputs": [],
   "source": []
  }
 ],
 "metadata": {
  "kernelspec": {
   "display_name": "Python 3.10.5 ('root_environment')",
   "language": "python",
   "name": "python3"
  },
  "language_info": {
   "codemirror_mode": {
    "name": "ipython",
    "version": 3
   },
   "file_extension": ".py",
   "mimetype": "text/x-python",
   "name": "python",
   "nbconvert_exporter": "python",
   "pygments_lexer": "ipython3",
   "version": "3.10.5"
  },
  "orig_nbformat": 4,
  "vscode": {
   "interpreter": {
    "hash": "29c996b962506192a5bf5f3dffbc4e0e67313f4f4caad8b7eec54ceabe2f0cb2"
   }
  }
 },
 "nbformat": 4,
 "nbformat_minor": 2
}
