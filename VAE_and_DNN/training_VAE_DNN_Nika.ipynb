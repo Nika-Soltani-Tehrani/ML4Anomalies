{
 "cells": [
  {
   "cell_type": "code",
   "execution_count": 1,
   "metadata": {},
   "outputs": [
    {
     "name": "stderr",
     "output_type": "stream",
     "text": [
      "2022-07-29 16:35:39.410224: W tensorflow/stream_executor/platform/default/dso_loader.cc:64] Could not load dynamic library 'libcudart.so.11.0'; dlerror: libcudart.so.11.0: cannot open shared object file: No such file or directory\n",
      "2022-07-29 16:35:39.410317: I tensorflow/stream_executor/cuda/cudart_stub.cc:29] Ignore above cudart dlerror if you do not have a GPU set up on your machine.\n"
     ]
    },
    {
     "name": "stdout",
     "output_type": "stream",
     "text": [
      "Welcome to JupyROOT 6.26/04\n"
     ]
    }
   ],
   "source": [
    "from sklearn.model_selection import train_test_split\n",
    "from sklearn.preprocessing import MinMaxScaler\n",
    "from sklearn.preprocessing import StandardScaler\n",
    "from sklearn.metrics import roc_curve, roc_auc_score\n",
    "\n",
    "import sys\n",
    "import numpy\n",
    "import pandas as pd\n",
    "import tensorflow as tf\n",
    "from keras import layers\n",
    "import keras\n",
    "\n",
    "\n",
    "#taking the model\n",
    "#from VAE_model_extended_moreDKL import *\n",
    "from VAE_testDK_Reco_Loss import *\n",
    "import matplotlib.pyplot as plt\n",
    "\n",
    "import ROOT"
   ]
  },
  {
   "cell_type": "code",
   "execution_count": 2,
   "metadata": {},
   "outputs": [],
   "source": [
    "ROOT.ROOT.EnableImplicitMT()\n",
    "#RDataFrame = ROOT.RDF.Experimental.Distributed.Spark.RDataFrame"
   ]
  },
  {
   "cell_type": "code",
   "execution_count": 3,
   "metadata": {},
   "outputs": [],
   "source": [
    "DEBUGGING_MODE = True\n",
    "\n",
    "def pdf_summary(pdf, debugging_mode=DEBUGGING_MODE):\n",
    "    print(f\"Pandas DataFrame shape is: {pdf.shape}\")\n",
    "    if debugging_mode:\n",
    "        return pdf.head(1)"
   ]
  },
  {
   "cell_type": "markdown",
   "metadata": {},
   "source": [
    "### variable from the nutple"
   ]
  },
  {
   "cell_type": "code",
   "execution_count": 4,
   "metadata": {},
   "outputs": [],
   "source": [
    "#pd_variables = ['deltaetajj', 'deltaphijj', 'etaj1', 'etaj2', 'etal1', 'etal2',\n",
    "#       'met', 'mjj', 'mll',  'ptj1', 'ptj2', 'ptl1',\n",
    "#       'ptl2', 'ptll']#,'phij1', 'phij2', 'w']\n",
    "#kinematicFilter = \"ptj1 > 30 && ptj2 >30 && deltaetajj>2 && mjj>200\"\n",
    "kinematicFilter = \"ptj1 > 30 && abs(etaj1-etaj2) > 2. && ptj2 >30 && mjj>200\"\n",
    "ntuple_location = \"../../ntuples4Momentum/\""
   ]
  },
  {
   "cell_type": "code",
   "execution_count": 5,
   "metadata": {},
   "outputs": [],
   "source": [
    "dfSM = ROOT.RDataFrame(\"SSWW_SM\",ntuple_location+\"ntuple_SSWW_SM.root\")\n",
    "dfSM = dfSM.Filter(kinematicFilter)\n",
    "dfBSM = ROOT.RDataFrame(\"SSWW_cW_QU\",ntuple_location+\"ntuple_SSWW_cW_QU.root\")\n",
    "dfBSM = dfBSM.Filter(kinematicFilter)\n",
    "np_SM = dfSM.AsNumpy()\n",
    "wSM = dfSM.AsNumpy([\"w\"])\n",
    "npd = pd.DataFrame.from_dict(np_SM)"
   ]
  },
  {
   "cell_type": "code",
   "execution_count": 6,
   "metadata": {},
   "outputs": [
    {
     "name": "stdout",
     "output_type": "stream",
     "text": [
      "Pandas DataFrame shape is: (895962, 28)\n"
     ]
    },
    {
     "data": {
      "text/html": [
       "<div>\n",
       "<style scoped>\n",
       "    .dataframe tbody tr th:only-of-type {\n",
       "        vertical-align: middle;\n",
       "    }\n",
       "\n",
       "    .dataframe tbody tr th {\n",
       "        vertical-align: top;\n",
       "    }\n",
       "\n",
       "    .dataframe thead th {\n",
       "        text-align: right;\n",
       "    }\n",
       "</style>\n",
       "<table border=\"1\" class=\"dataframe\">\n",
       "  <thead>\n",
       "    <tr style=\"text-align: right;\">\n",
       "      <th></th>\n",
       "      <th>Ej1</th>\n",
       "      <th>Ej2</th>\n",
       "      <th>El1</th>\n",
       "      <th>El2</th>\n",
       "      <th>etaj1</th>\n",
       "      <th>etaj2</th>\n",
       "      <th>etal1</th>\n",
       "      <th>etal2</th>\n",
       "      <th>met</th>\n",
       "      <th>mjj</th>\n",
       "      <th>...</th>\n",
       "      <th>pxl1</th>\n",
       "      <th>pxl2</th>\n",
       "      <th>pyj1</th>\n",
       "      <th>pyj2</th>\n",
       "      <th>pyl1</th>\n",
       "      <th>pyl2</th>\n",
       "      <th>pzj1</th>\n",
       "      <th>pzj2</th>\n",
       "      <th>pzl1</th>\n",
       "      <th>pzl2</th>\n",
       "    </tr>\n",
       "  </thead>\n",
       "  <tbody>\n",
       "    <tr>\n",
       "      <th>0</th>\n",
       "      <td>303.458801</td>\n",
       "      <td>701.662598</td>\n",
       "      <td>66.335213</td>\n",
       "      <td>61.839161</td>\n",
       "      <td>-1.531009</td>\n",
       "      <td>1.705899</td>\n",
       "      <td>-1.010756</td>\n",
       "      <td>0.059856</td>\n",
       "      <td>115.725586</td>\n",
       "      <td>914.647095</td>\n",
       "      <td>...</td>\n",
       "      <td>37.129974</td>\n",
       "      <td>-46.985771</td>\n",
       "      <td>18.432892</td>\n",
       "      <td>-183.381699</td>\n",
       "      <td>20.959143</td>\n",
       "      <td>40.034378</td>\n",
       "      <td>-276.328735</td>\n",
       "      <td>656.85614</td>\n",
       "      <td>-50.817711</td>\n",
       "      <td>3.697025</td>\n",
       "    </tr>\n",
       "  </tbody>\n",
       "</table>\n",
       "<p>1 rows × 28 columns</p>\n",
       "</div>"
      ],
      "text/plain": [
       "          Ej1         Ej2        El1        El2     etaj1     etaj2     etal1  \\\n",
       "0  303.458801  701.662598  66.335213  61.839161 -1.531009  1.705899 -1.010756   \n",
       "\n",
       "      etal2         met         mjj  ...       pxl1       pxl2       pyj1  \\\n",
       "0  0.059856  115.725586  914.647095  ...  37.129974 -46.985771  18.432892   \n",
       "\n",
       "         pyj2       pyl1       pyl2        pzj1       pzj2       pzl1  \\\n",
       "0 -183.381699  20.959143  40.034378 -276.328735  656.85614 -50.817711   \n",
       "\n",
       "       pzl2  \n",
       "0  3.697025  \n",
       "\n",
       "[1 rows x 28 columns]"
      ]
     },
     "execution_count": 6,
     "metadata": {},
     "output_type": "execute_result"
    }
   ],
   "source": [
    "npd.drop(['w','phil1','phil2',\"phij1\",\"phij2\"],axis='columns', inplace=True)\n",
    "pdf_summary(npd)"
   ]
  },
  {
   "cell_type": "code",
   "execution_count": 7,
   "metadata": {},
   "outputs": [
    {
     "name": "stdout",
     "output_type": "stream",
     "text": [
      "Pandas DataFrame shape is: (895962, 1)\n"
     ]
    },
    {
     "data": {
      "text/html": [
       "<div>\n",
       "<style scoped>\n",
       "    .dataframe tbody tr th:only-of-type {\n",
       "        vertical-align: middle;\n",
       "    }\n",
       "\n",
       "    .dataframe tbody tr th {\n",
       "        vertical-align: top;\n",
       "    }\n",
       "\n",
       "    .dataframe thead th {\n",
       "        text-align: right;\n",
       "    }\n",
       "</style>\n",
       "<table border=\"1\" class=\"dataframe\">\n",
       "  <thead>\n",
       "    <tr style=\"text-align: right;\">\n",
       "      <th></th>\n",
       "      <th>w</th>\n",
       "    </tr>\n",
       "  </thead>\n",
       "  <tbody>\n",
       "    <tr>\n",
       "      <th>0</th>\n",
       "      <td>0.005578</td>\n",
       "    </tr>\n",
       "  </tbody>\n",
       "</table>\n",
       "</div>"
      ],
      "text/plain": [
       "          w\n",
       "0  0.005578"
      ]
     },
     "execution_count": 7,
     "metadata": {},
     "output_type": "execute_result"
    }
   ],
   "source": [
    "wpdSM = pd.DataFrame.from_dict(wSM)\n",
    "pdf_summary(wpdSM)"
   ]
  },
  {
   "cell_type": "code",
   "execution_count": 8,
   "metadata": {},
   "outputs": [
    {
     "name": "stdout",
     "output_type": "stream",
     "text": [
      "Pandas DataFrame shape is: (654461, 33)\n"
     ]
    },
    {
     "data": {
      "text/html": [
       "<div>\n",
       "<style scoped>\n",
       "    .dataframe tbody tr th:only-of-type {\n",
       "        vertical-align: middle;\n",
       "    }\n",
       "\n",
       "    .dataframe tbody tr th {\n",
       "        vertical-align: top;\n",
       "    }\n",
       "\n",
       "    .dataframe thead th {\n",
       "        text-align: right;\n",
       "    }\n",
       "</style>\n",
       "<table border=\"1\" class=\"dataframe\">\n",
       "  <thead>\n",
       "    <tr style=\"text-align: right;\">\n",
       "      <th></th>\n",
       "      <th>Ej1</th>\n",
       "      <th>Ej2</th>\n",
       "      <th>El1</th>\n",
       "      <th>El2</th>\n",
       "      <th>etaj1</th>\n",
       "      <th>etaj2</th>\n",
       "      <th>etal1</th>\n",
       "      <th>etal2</th>\n",
       "      <th>met</th>\n",
       "      <th>mjj</th>\n",
       "      <th>...</th>\n",
       "      <th>pxl2</th>\n",
       "      <th>pyj1</th>\n",
       "      <th>pyj2</th>\n",
       "      <th>pyl1</th>\n",
       "      <th>pyl2</th>\n",
       "      <th>pzj1</th>\n",
       "      <th>pzj2</th>\n",
       "      <th>pzl1</th>\n",
       "      <th>pzl2</th>\n",
       "      <th>w</th>\n",
       "    </tr>\n",
       "  </thead>\n",
       "  <tbody>\n",
       "    <tr>\n",
       "      <th>0</th>\n",
       "      <td>800.932922</td>\n",
       "      <td>3766.025879</td>\n",
       "      <td>42.786198</td>\n",
       "      <td>499.031891</td>\n",
       "      <td>-2.564578</td>\n",
       "      <td>3.370996</td>\n",
       "      <td>0.230144</td>\n",
       "      <td>0.919019</td>\n",
       "      <td>30.624445</td>\n",
       "      <td>3454.64917</td>\n",
       "      <td>...</td>\n",
       "      <td>-229.1716</td>\n",
       "      <td>118.484314</td>\n",
       "      <td>134.396973</td>\n",
       "      <td>-26.105608</td>\n",
       "      <td>-255.849304</td>\n",
       "      <td>-791.503235</td>\n",
       "      <td>3757.14624</td>\n",
       "      <td>9.676733</td>\n",
       "      <td>362.014282</td>\n",
       "      <td>0.003932</td>\n",
       "    </tr>\n",
       "  </tbody>\n",
       "</table>\n",
       "<p>1 rows × 33 columns</p>\n",
       "</div>"
      ],
      "text/plain": [
       "          Ej1          Ej2        El1         El2     etaj1     etaj2  \\\n",
       "0  800.932922  3766.025879  42.786198  499.031891 -2.564578  3.370996   \n",
       "\n",
       "      etal1     etal2        met         mjj  ...      pxl2        pyj1  \\\n",
       "0  0.230144  0.919019  30.624445  3454.64917  ... -229.1716  118.484314   \n",
       "\n",
       "         pyj2       pyl1        pyl2        pzj1        pzj2      pzl1  \\\n",
       "0  134.396973 -26.105608 -255.849304 -791.503235  3757.14624  9.676733   \n",
       "\n",
       "         pzl2         w  \n",
       "0  362.014282  0.003932  \n",
       "\n",
       "[1 rows x 33 columns]"
      ]
     },
     "execution_count": 8,
     "metadata": {},
     "output_type": "execute_result"
    }
   ],
   "source": [
    "# Take all columns og dfBSM because of using RDateFrame.AsNumpy() without any filter\n",
    "np_BSM = dfBSM.AsNumpy()\n",
    "wBSM = dfBSM.AsNumpy([\"w\"])\n",
    "npd_BSM = pd.DataFrame.from_dict(np_BSM)\n",
    "pdf_summary(npd_BSM)"
   ]
  },
  {
   "cell_type": "code",
   "execution_count": 9,
   "metadata": {},
   "outputs": [
    {
     "name": "stdout",
     "output_type": "stream",
     "text": [
      "Pandas DataFrame shape is: (654461, 1)\n"
     ]
    },
    {
     "data": {
      "text/html": [
       "<div>\n",
       "<style scoped>\n",
       "    .dataframe tbody tr th:only-of-type {\n",
       "        vertical-align: middle;\n",
       "    }\n",
       "\n",
       "    .dataframe tbody tr th {\n",
       "        vertical-align: top;\n",
       "    }\n",
       "\n",
       "    .dataframe thead th {\n",
       "        text-align: right;\n",
       "    }\n",
       "</style>\n",
       "<table border=\"1\" class=\"dataframe\">\n",
       "  <thead>\n",
       "    <tr style=\"text-align: right;\">\n",
       "      <th></th>\n",
       "      <th>w</th>\n",
       "    </tr>\n",
       "  </thead>\n",
       "  <tbody>\n",
       "    <tr>\n",
       "      <th>0</th>\n",
       "      <td>0.003938</td>\n",
       "    </tr>\n",
       "  </tbody>\n",
       "</table>\n",
       "</div>"
      ],
      "text/plain": [
       "          w\n",
       "0  0.003938"
      ]
     },
     "execution_count": 9,
     "metadata": {},
     "output_type": "execute_result"
    }
   ],
   "source": [
    "npd_BSM.drop(['w','phil1','phil2',\"phij1\",\"phij2\"],axis='columns', inplace=True)\n",
    "wpdBSM = pd.DataFrame.from_dict(wBSM)\n",
    "pdf_summary(wpdBSM)"
   ]
  },
  {
   "cell_type": "code",
   "execution_count": 10,
   "metadata": {},
   "outputs": [],
   "source": [
    "nEntries = 3000000\n",
    "npd = npd.head(nEntries)\n",
    "npd_BSM = npd_BSM.head(nEntries)\n",
    "wpdSM = wpdSM.head(nEntries)\n",
    "wpdBSM = wpdBSM.head(nEntries)"
   ]
  },
  {
   "cell_type": "code",
   "execution_count": 11,
   "metadata": {},
   "outputs": [
    {
     "name": "stdout",
     "output_type": "stream",
     "text": [
      "Pandas DataFrame shape is: (895962, 28)\n"
     ]
    },
    {
     "data": {
      "text/html": [
       "<div>\n",
       "<style scoped>\n",
       "    .dataframe tbody tr th:only-of-type {\n",
       "        vertical-align: middle;\n",
       "    }\n",
       "\n",
       "    .dataframe tbody tr th {\n",
       "        vertical-align: top;\n",
       "    }\n",
       "\n",
       "    .dataframe thead th {\n",
       "        text-align: right;\n",
       "    }\n",
       "</style>\n",
       "<table border=\"1\" class=\"dataframe\">\n",
       "  <thead>\n",
       "    <tr style=\"text-align: right;\">\n",
       "      <th></th>\n",
       "      <th>Ej1</th>\n",
       "      <th>Ej2</th>\n",
       "      <th>El1</th>\n",
       "      <th>El2</th>\n",
       "      <th>etaj1</th>\n",
       "      <th>etaj2</th>\n",
       "      <th>etal1</th>\n",
       "      <th>etal2</th>\n",
       "      <th>met</th>\n",
       "      <th>mjj</th>\n",
       "      <th>...</th>\n",
       "      <th>pxl1</th>\n",
       "      <th>pxl2</th>\n",
       "      <th>pyj1</th>\n",
       "      <th>pyj2</th>\n",
       "      <th>pyl1</th>\n",
       "      <th>pyl2</th>\n",
       "      <th>pzj1</th>\n",
       "      <th>pzj2</th>\n",
       "      <th>pzl1</th>\n",
       "      <th>pzl2</th>\n",
       "    </tr>\n",
       "  </thead>\n",
       "  <tbody>\n",
       "    <tr>\n",
       "      <th>0</th>\n",
       "      <td>2.4821</td>\n",
       "      <td>2.846128</td>\n",
       "      <td>1.821744</td>\n",
       "      <td>1.791264</td>\n",
       "      <td>-1.531009</td>\n",
       "      <td>1.705899</td>\n",
       "      <td>-1.010756</td>\n",
       "      <td>0.059856</td>\n",
       "      <td>2.063429</td>\n",
       "      <td>2.961254</td>\n",
       "      <td>...</td>\n",
       "      <td>37.129974</td>\n",
       "      <td>-46.985771</td>\n",
       "      <td>18.432892</td>\n",
       "      <td>-183.381699</td>\n",
       "      <td>20.959143</td>\n",
       "      <td>40.034378</td>\n",
       "      <td>-276.328735</td>\n",
       "      <td>656.85614</td>\n",
       "      <td>-50.817711</td>\n",
       "      <td>3.697025</td>\n",
       "    </tr>\n",
       "  </tbody>\n",
       "</table>\n",
       "<p>1 rows × 28 columns</p>\n",
       "</div>"
      ],
      "text/plain": [
       "      Ej1       Ej2       El1       El2     etaj1     etaj2     etal1  \\\n",
       "0  2.4821  2.846128  1.821744  1.791264 -1.531009  1.705899 -1.010756   \n",
       "\n",
       "      etal2       met       mjj  ...       pxl1       pxl2       pyj1  \\\n",
       "0  0.059856  2.063429  2.961254  ...  37.129974 -46.985771  18.432892   \n",
       "\n",
       "         pyj2       pyl1       pyl2        pzj1       pzj2       pzl1  \\\n",
       "0 -183.381699  20.959143  40.034378 -276.328735  656.85614 -50.817711   \n",
       "\n",
       "       pzl2  \n",
       "0  3.697025  \n",
       "\n",
       "[1 rows x 28 columns]"
      ]
     },
     "execution_count": 11,
     "metadata": {},
     "output_type": "execute_result"
    }
   ],
   "source": [
    "# #to be done for all the pt and mass and met variables\n",
    "for var in ['met', 'mjj', 'mll', 'ptj1', 'ptj2', 'ptl1',\n",
    "            'ptl2', 'ptll',\"Ej1\",\"Ej2\",\"El1\",\"El2\"]:\n",
    "   npd[var] = np.log10(npd[var])\n",
    "   npd_BSM[var] = np.log10(npd_BSM[var])\n",
    "pdf_summary(npd)"
   ]
  },
  {
   "cell_type": "markdown",
   "metadata": {},
   "source": [
    "### Combining SM and BSM data"
   ]
  },
  {
   "cell_type": "code",
   "execution_count": 12,
   "metadata": {},
   "outputs": [],
   "source": [
    "Y_true_SM = np.full(npd.shape[0],0)\n",
    "Y_true_BSM = np.full(npd_BSM.shape[0],1)\n",
    "labels_arr = np.concatenate((Y_true_SM,Y_true_BSM))"
   ]
  },
  {
   "cell_type": "code",
   "execution_count": 13,
   "metadata": {},
   "outputs": [
    {
     "name": "stdout",
     "output_type": "stream",
     "text": [
      "Pandas DataFrame shape is: (1550423, 29)\n"
     ]
    },
    {
     "data": {
      "text/html": [
       "<div>\n",
       "<style scoped>\n",
       "    .dataframe tbody tr th:only-of-type {\n",
       "        vertical-align: middle;\n",
       "    }\n",
       "\n",
       "    .dataframe tbody tr th {\n",
       "        vertical-align: top;\n",
       "    }\n",
       "\n",
       "    .dataframe thead th {\n",
       "        text-align: right;\n",
       "    }\n",
       "</style>\n",
       "<table border=\"1\" class=\"dataframe\">\n",
       "  <thead>\n",
       "    <tr style=\"text-align: right;\">\n",
       "      <th></th>\n",
       "      <th>Ej1</th>\n",
       "      <th>Ej2</th>\n",
       "      <th>El1</th>\n",
       "      <th>El2</th>\n",
       "      <th>etaj1</th>\n",
       "      <th>etaj2</th>\n",
       "      <th>etal1</th>\n",
       "      <th>etal2</th>\n",
       "      <th>met</th>\n",
       "      <th>mjj</th>\n",
       "      <th>...</th>\n",
       "      <th>pxl2</th>\n",
       "      <th>pyj1</th>\n",
       "      <th>pyj2</th>\n",
       "      <th>pyl1</th>\n",
       "      <th>pyl2</th>\n",
       "      <th>pzj1</th>\n",
       "      <th>pzj2</th>\n",
       "      <th>pzl1</th>\n",
       "      <th>pzl2</th>\n",
       "      <th>labels</th>\n",
       "    </tr>\n",
       "  </thead>\n",
       "  <tbody>\n",
       "    <tr>\n",
       "      <th>486073</th>\n",
       "      <td>2.398998</td>\n",
       "      <td>2.984704</td>\n",
       "      <td>2.63405</td>\n",
       "      <td>2.740556</td>\n",
       "      <td>-2.338191</td>\n",
       "      <td>0.179762</td>\n",
       "      <td>-1.442716</td>\n",
       "      <td>-0.662163</td>\n",
       "      <td>2.612873</td>\n",
       "      <td>2.83941</td>\n",
       "      <td>...</td>\n",
       "      <td>-20.633226</td>\n",
       "      <td>-47.285328</td>\n",
       "      <td>-932.315796</td>\n",
       "      <td>127.011879</td>\n",
       "      <td>447.840851</td>\n",
       "      <td>-245.985443</td>\n",
       "      <td>171.695801</td>\n",
       "      <td>-385.039673</td>\n",
       "      <td>-319.032471</td>\n",
       "      <td>1</td>\n",
       "    </tr>\n",
       "  </tbody>\n",
       "</table>\n",
       "<p>1 rows × 29 columns</p>\n",
       "</div>"
      ],
      "text/plain": [
       "             Ej1       Ej2      El1       El2     etaj1     etaj2     etal1  \\\n",
       "486073  2.398998  2.984704  2.63405  2.740556 -2.338191  0.179762 -1.442716   \n",
       "\n",
       "           etal2       met      mjj  ...       pxl2       pyj1        pyj2  \\\n",
       "486073 -0.662163  2.612873  2.83941  ... -20.633226 -47.285328 -932.315796   \n",
       "\n",
       "              pyl1        pyl2        pzj1        pzj2        pzl1  \\\n",
       "486073  127.011879  447.840851 -245.985443  171.695801 -385.039673   \n",
       "\n",
       "              pzl2  labels  \n",
       "486073 -319.032471       1  \n",
       "\n",
       "[1 rows x 29 columns]"
      ]
     },
     "execution_count": 13,
     "metadata": {},
     "output_type": "execute_result"
    }
   ],
   "source": [
    "samples_df = pd.concat([npd,npd_BSM])\n",
    "samples_df['labels'] = labels_arr\n",
    "samples_df = samples_df.sample(frac=1)\n",
    "pdf_summary(samples_df)"
   ]
  },
  {
   "cell_type": "code",
   "execution_count": 14,
   "metadata": {},
   "outputs": [],
   "source": [
    "shuffled_labels_df = samples_df['labels']\n",
    "shuffled_samples_df = samples_df.drop(['labels'], axis='columns')"
   ]
  },
  {
   "cell_type": "code",
   "execution_count": 15,
   "metadata": {},
   "outputs": [],
   "source": [
    "X_train, X_rem, y_train, y_rem = train_test_split(shuffled_samples_df,\n",
    "                                                  shuffled_labels_df,\n",
    "                                                  train_size=0.8)\n",
    "X_valid, X_test, y_valid, y_test = train_test_split(X_rem,\n",
    "                                                    y_rem, \n",
    "                                                    test_size=0.5)\n",
    "SM_train,SM_test,_,_ = train_test_split(npd, npd, test_size=0.2, random_state=1)\n",
    "BSM_train,BSM_test,_,_ = train_test_split(npd_BSM, npd_BSM, test_size=0.2, random_state=1)\n",
    "#wx_train, wx_test, wy_train, wy_test = train_test_split(wpdSM, wpdSM, test_size=0.2, random_state=1)\n",
    "\n",
    "#BSM_train, BSM_test, y_BSM_train, y_BSM_test = train_test_split(npd_BSM, Y_true_BSM, test_size=0.2, random_state=1)\n",
    "#wBSM_train, wBSM_test, _ , _ = train_test_split(wpdBSM, wpdBSM, test_size=0.2, random_state=1)\n",
    "#print wx_train,X_train\n",
    "#wx = wx_train[\"w\"].to_numpy()\n",
    "#wxtest = wx_test[\"w\"].to_numpy()\n",
    "#wBSM = wBSM_train[\"w\"].to_numpy()\n",
    "#wBSMtest = wBSM_test[\"w\"].to_numpy()"
   ]
  },
  {
   "cell_type": "markdown",
   "metadata": {},
   "source": [
    "### scale data"
   ]
  },
  {
   "cell_type": "code",
   "execution_count": 16,
   "metadata": {},
   "outputs": [],
   "source": [
    "scaler = MinMaxScaler()\n",
    "#scaler = StandardScaler()\n",
    "scaler.fit(shuffled_samples_df)\n",
    "scaled_x_train = scaler.transform(X_train)\n",
    "scaled_x_valid = scaler.transform(X_valid)\n",
    "scaled_x_test = scaler.transform(X_test)\n",
    "BSM_test = scaler.transform(BSM_test)\n",
    "# scaler.fit(SM_train)\n",
    "# X_train = scaler.transform(X_train)\n",
    "# X_test = scaler.transform(X_test)\n",
    "# BSM_test = scaler.transform(BSM_test)"
   ]
  },
  {
   "cell_type": "code",
   "execution_count": 17,
   "metadata": {},
   "outputs": [],
   "source": [
    "n_inputs = npd.shape[1]\n",
    "original_dim = n_inputs\n",
    "\n",
    "intermediate_dim = 50 #50 by default\n",
    "input_dim = 10 #was 20 in default\n",
    "half_input = 7 #was 20 in the newTest\n",
    "latent_dim = 10 #tried 7 as well  #was 3 for optimal performance\n",
    "epochs = 20 #80\n",
    "batch_size=64 #32\n",
    "nameExtenstion = str(intermediate_dim) + \"_\" +\\\n",
    "                 str(input_dim) + \"_\" +\\\n",
    "                 str(half_input) + \"_\" +\\\n",
    "                 str(latent_dim) + \"_\" +\\\n",
    "                 str(epochs) + \"_\" +\\\n",
    "                 str(batch_size)\n"
   ]
  },
  {
   "cell_type": "code",
   "execution_count": 18,
   "metadata": {},
   "outputs": [
    {
     "name": "stdout",
     "output_type": "stream",
     "text": [
      "Epoch 1/20\n",
      "19381/19381 [==============================] - 146s 7ms/step - loss: 0.3575 - binary_accuracy: 0.8570 - val_loss: 0.3034 - val_binary_accuracy: 0.8895\n",
      "Epoch 2/20\n",
      "19381/19381 [==============================] - 148s 8ms/step - loss: 0.3057 - binary_accuracy: 0.8878 - val_loss: 0.2989 - val_binary_accuracy: 0.8902\n",
      "Epoch 3/20\n",
      "19381/19381 [==============================] - 143s 7ms/step - loss: 0.3005 - binary_accuracy: 0.8891 - val_loss: 0.2942 - val_binary_accuracy: 0.8902\n",
      "Epoch 4/20\n",
      "19381/19381 [==============================] - 141s 7ms/step - loss: 0.2979 - binary_accuracy: 0.8896 - val_loss: 0.2949 - val_binary_accuracy: 0.8899\n",
      "Epoch 5/20\n",
      "19381/19381 [==============================] - 143s 7ms/step - loss: 0.2954 - binary_accuracy: 0.8903 - val_loss: 0.2934 - val_binary_accuracy: 0.8902\n",
      "Epoch 6/20\n",
      "19381/19381 [==============================] - 145s 7ms/step - loss: 0.2939 - binary_accuracy: 0.8905 - val_loss: 0.2918 - val_binary_accuracy: 0.8895\n",
      "Epoch 7/20\n",
      "19381/19381 [==============================] - 144s 7ms/step - loss: 0.2929 - binary_accuracy: 0.8908 - val_loss: 0.2875 - val_binary_accuracy: 0.8923\n",
      "Epoch 8/20\n",
      "19381/19381 [==============================] - 144s 7ms/step - loss: 0.2915 - binary_accuracy: 0.8909 - val_loss: 0.2865 - val_binary_accuracy: 0.8922\n",
      "Epoch 9/20\n",
      "19381/19381 [==============================] - 149s 8ms/step - loss: 0.2908 - binary_accuracy: 0.8910 - val_loss: 0.2878 - val_binary_accuracy: 0.8919\n",
      "Epoch 10/20\n",
      "19381/19381 [==============================] - 143s 7ms/step - loss: 0.2890 - binary_accuracy: 0.8913 - val_loss: 0.2881 - val_binary_accuracy: 0.8910\n",
      "Epoch 11/20\n",
      "19381/19381 [==============================] - 144s 7ms/step - loss: 0.2871 - binary_accuracy: 0.8916 - val_loss: 0.2852 - val_binary_accuracy: 0.8898\n",
      "Epoch 12/20\n",
      "19381/19381 [==============================] - 144s 7ms/step - loss: 0.2860 - binary_accuracy: 0.8916 - val_loss: 0.2820 - val_binary_accuracy: 0.8921\n",
      "Epoch 13/20\n",
      "19381/19381 [==============================] - 144s 7ms/step - loss: 0.2852 - binary_accuracy: 0.8915 - val_loss: 0.2812 - val_binary_accuracy: 0.8925\n",
      "Epoch 14/20\n",
      "19381/19381 [==============================] - 145s 7ms/step - loss: 0.2844 - binary_accuracy: 0.8918 - val_loss: 0.2821 - val_binary_accuracy: 0.8917\n",
      "Epoch 15/20\n",
      "19381/19381 [==============================] - 143s 7ms/step - loss: 0.2838 - binary_accuracy: 0.8918 - val_loss: 0.2825 - val_binary_accuracy: 0.8918\n",
      "Epoch 16/20\n",
      "19381/19381 [==============================] - 141s 7ms/step - loss: 0.2835 - binary_accuracy: 0.8918 - val_loss: 0.2830 - val_binary_accuracy: 0.8914\n",
      "Epoch 17/20\n",
      "19381/19381 [==============================] - 141s 7ms/step - loss: 0.2830 - binary_accuracy: 0.8920 - val_loss: 0.2803 - val_binary_accuracy: 0.8917\n",
      "Epoch 18/20\n",
      "19381/19381 [==============================] - 142s 7ms/step - loss: 0.2828 - binary_accuracy: 0.8919 - val_loss: 0.2820 - val_binary_accuracy: 0.8919\n",
      "Epoch 19/20\n",
      "19381/19381 [==============================] - 145s 8ms/step - loss: 0.2823 - binary_accuracy: 0.8920 - val_loss: 0.2866 - val_binary_accuracy: 0.8890\n",
      "Epoch 20/20\n",
      "19381/19381 [==============================] - 144s 7ms/step - loss: 0.2824 - binary_accuracy: 0.8919 - val_loss: 0.2819 - val_binary_accuracy: 0.8908\n"
     ]
    },
    {
     "name": "stderr",
     "output_type": "stream",
     "text": [
      "2022-07-29 16:36:05.049207: W tensorflow/stream_executor/platform/default/dso_loader.cc:64] Could not load dynamic library 'libcuda.so.1'; dlerror: libcuda.so.1: cannot open shared object file: No such file or directory\n",
      "2022-07-29 16:36:05.049331: W tensorflow/stream_executor/cuda/cuda_driver.cc:269] failed call to cuInit: UNKNOWN ERROR (303)\n",
      "2022-07-29 16:36:05.049403: I tensorflow/stream_executor/cuda/cuda_diagnostics.cc:156] kernel driver does not appear to be running on this host (localhost): /proc/driver/nvidia/version does not exist\n",
      "2022-07-29 16:36:05.050150: I tensorflow/core/platform/cpu_feature_guard.cc:193] This TensorFlow binary is optimized with oneAPI Deep Neural Network Library (oneDNN) to use the following CPU instructions in performance-critical operations:  AVX2 FMA\n",
      "To enable them in other operations, rebuild TensorFlow with the appropriate compiler flags.\n"
     ]
    }
   ],
   "source": [
    "vae = VariationalAutoEncoder(\n",
    "                             original_dim, \n",
    "                             intermediate_dim, \n",
    "                             input_dim, \n",
    "                             half_input, \n",
    "                             latent_dim,\n",
    "                             )  \n",
    "#vae.compile(\n",
    "#               optimizer=tf.keras.optimizers.Adam(learning_rate=0.0005),  \n",
    "#               loss=tf.keras.losses.MeanSquaredError()\n",
    "#           )\n",
    "#vae.compile(\n",
    "#               optimizer=tf.keras.optimizers.Adam(learning_rate=0.0005),\n",
    "#               run_eagerly=True, loss=\"binary_crossentropy\",\n",
    "#               metrics = [tf.keras.metrics.BinaryAccuracy()]\n",
    "#           )\n",
    "#vae.compile(\n",
    "#               optimizer=tf.keras.optimizers.Adam(learning_rate=0.0005), \n",
    "#               loss_weights=[0.1],loss=\"binary_crossentropy\",\n",
    "#               metrics = [tf.keras.metrics.BinaryAccuracy()]\n",
    "#           )\n",
    "vae.compile(\n",
    "                optimizer=tf.keras.optimizers.Adam(learning_rate=0.0005),\n",
    "                loss=\"binary_crossentropy\",\n",
    "                metrics = [tf.keras.metrics.BinaryAccuracy()]\n",
    "            )\n",
    "vae_hist = vae.fit(\n",
    "                    scaled_x_train,\n",
    "                    y_train,\n",
    "                    validation_data=(scaled_x_valid, y_valid), \n",
    "                    epochs=epochs, \n",
    "                    batch_size = batch_size\n",
    "                ) "
   ]
  },
  {
   "cell_type": "code",
   "execution_count": 25,
   "metadata": {},
   "outputs": [
    {
     "data": {
      "image/png": "[encoded data removed]",
      "text/plain": [
       "<Figure size 576x360 with 1 Axes>"
      ]
     },
     "metadata": {
      "needs_background": "light"
     },
     "output_type": "display_data"
    }
   ],
   "source": [
    "pd.DataFrame(vae_hist.history).plot(figsize=(8, 5))\n",
    "plt.grid(True)\n",
    "plt.gca().set_ylim(0, 1)\n",
    "plt.show()"
   ]
  },
  {
   "cell_type": "code",
   "execution_count": 26,
   "metadata": {},
   "outputs": [
    {
     "name": "stdout",
     "output_type": "stream",
     "text": [
      "4846/4846 [==============================] - 17s 3ms/step - loss: nan - binary_accuracy: 0.3972\n"
     ]
    },
    {
     "data": {
      "text/plain": [
       "[nan, 0.39721882343292236]"
      ]
     },
     "execution_count": 26,
     "metadata": {},
     "output_type": "execute_result"
    }
   ],
   "source": [
    "vae.evaluate(X_test, y_test)"
   ]
  },
  {
   "cell_type": "code",
   "execution_count": 27,
   "metadata": {},
   "outputs": [
    {
     "name": "stdout",
     "output_type": "stream",
     "text": [
      "4846/4846 [==============================] - 13s 3ms/step\n"
     ]
    }
   ],
   "source": [
    "encoderDecoder =  EncoderDecoder(original_dim,\n",
    "                                 intermediate_dim,\n",
    "                                 input_dim,\n",
    "                                 half_input,\n",
    "                                 latent_dim)\n",
    "reco = encoderDecoder.predict(scaled_x_test)"
   ]
  },
  {
   "cell_type": "code",
   "execution_count": 28,
   "metadata": {},
   "outputs": [
    {
     "name": "stderr",
     "output_type": "stream",
     "text": [
      "WARNING:absl:Found untraced functions such as dense_29_layer_call_fn, dense_29_layer_call_and_return_conditional_losses, encoder_leakyrelu_1_layer_call_fn, encoder_leakyrelu_1_layer_call_and_return_conditional_losses, dense_30_layer_call_fn while saving (showing 5 of 50). These functions will not be directly callable after loading.\n"
     ]
    },
    {
     "name": "stdout",
     "output_type": "stream",
     "text": [
      "INFO:tensorflow:Assets written to: encoderDecoder_newModelUsingKL_Reco_Loss_newWayToAddUpSamples_50_10_7_10_20_64/assets\n"
     ]
    },
    {
     "name": "stderr",
     "output_type": "stream",
     "text": [
      "INFO:tensorflow:Assets written to: encoderDecoder_newModelUsingKL_Reco_Loss_newWayToAddUpSamples_50_10_7_10_20_64/assets\n"
     ]
    },
    {
     "name": "stdout",
     "output_type": "stream",
     "text": [
      "WARNING:tensorflow:Skipping full serialization of Keras layer <VAE_testDK_Reco_Loss.Encoder object at 0x7f8b9cd38e50>, because it is not built.\n"
     ]
    },
    {
     "name": "stderr",
     "output_type": "stream",
     "text": [
      "WARNING:tensorflow:Skipping full serialization of Keras layer <VAE_testDK_Reco_Loss.Encoder object at 0x7f8b9cd38e50>, because it is not built.\n"
     ]
    },
    {
     "name": "stdout",
     "output_type": "stream",
     "text": [
      "WARNING:tensorflow:Skipping full serialization of Keras layer <VAE_testDK_Reco_Loss.Decoder object at 0x7f8b9cd394e0>, because it is not built.\n"
     ]
    },
    {
     "name": "stderr",
     "output_type": "stream",
     "text": [
      "WARNING:tensorflow:Skipping full serialization of Keras layer <VAE_testDK_Reco_Loss.Decoder object at 0x7f8b9cd394e0>, because it is not built.\n"
     ]
    },
    {
     "name": "stdout",
     "output_type": "stream",
     "text": [
      "WARNING:tensorflow:Skipping full serialization of Keras layer <VAE_testDK_Reco_Loss.classifier object at 0x7f8b9cd3bdc0>, because it is not built.\n"
     ]
    },
    {
     "name": "stderr",
     "output_type": "stream",
     "text": [
      "WARNING:tensorflow:Skipping full serialization of Keras layer <VAE_testDK_Reco_Loss.classifier object at 0x7f8b9cd3bdc0>, because it is not built.\n",
      "WARNING:absl:Found untraced functions such as dense_layer_call_fn, dense_layer_call_and_return_conditional_losses, encoder_leakyrelu_1_layer_call_fn, encoder_leakyrelu_1_layer_call_and_return_conditional_losses, dense_1_layer_call_fn while saving (showing 5 of 58). These functions will not be directly callable after loading.\n"
     ]
    },
    {
     "name": "stdout",
     "output_type": "stream",
     "text": [
      "INFO:tensorflow:Assets written to: vae_newModelUsingKL_Reco_Loss_newWayToAddUpSamples_50_10_7_10_20_64/assets\n"
     ]
    },
    {
     "name": "stderr",
     "output_type": "stream",
     "text": [
      "INFO:tensorflow:Assets written to: vae_newModelUsingKL_Reco_Loss_newWayToAddUpSamples_50_10_7_10_20_64/assets\n"
     ]
    }
   ],
   "source": [
    "keras.models.save_model(encoderDecoder,'encoderDecoder_newModelUsingKL_Reco_Loss_newWayToAddUpSamples_'+nameExtenstion)\n",
    "keras.models.save_model(vae,'vae_newModelUsingKL_Reco_Loss_newWayToAddUpSamples_'+nameExtenstion)\n",
    "#numpy.savetxt(\"lossVAE_test_newModelDimenstions_MinMaxScaler_\"+nameExtenstion+\".csv\",hist.history[\"loss\"],delimiter=\",\")\n",
    "#vae=tf.keras.models.load_model('vae_test_newModelUsingLatentSpace_'+nameExtenstion)"
   ]
  },
  {
   "cell_type": "code",
   "execution_count": 29,
   "metadata": {},
   "outputs": [
    {
     "name": "stdout",
     "output_type": "stream",
     "text": [
      "5600/5600 [==============================] - 16s 3ms/step\n",
      "4091/4091 [==============================] - 12s 3ms/step\n"
     ]
    }
   ],
   "source": [
    "output_SM = vae.predict(SM_test)\n",
    "output_BSM = vae.predict(BSM_test)"
   ]
  },
  {
   "cell_type": "code",
   "execution_count": 30,
   "metadata": {},
   "outputs": [
    {
     "name": "stdout",
     "output_type": "stream",
     "text": [
      "{'loss': [0.3574502170085907, 0.3057488203048706, 0.3004668354988098, 0.2978949248790741, 0.2953684329986572, 0.2939186990261078, 0.2928520441055298, 0.2914896607398987, 0.2907521426677704, 0.28897252678871155, 0.28710484504699707, 0.28596067428588867, 0.28517764806747437, 0.28441324830055237, 0.28377193212509155, 0.2834612727165222, 0.28303229808807373, 0.28279390931129456, 0.28234943747520447, 0.2823520302772522], 'binary_accuracy': [0.8570349216461182, 0.8877846002578735, 0.8891229629516602, 0.8895567059516907, 0.8902549147605896, 0.8905467987060547, 0.8908104300498962, 0.8908635973930359, 0.890967607498169, 0.8913223743438721, 0.8915666341781616, 0.8916416168212891, 0.8915150761604309, 0.8917972445487976, 0.891789972782135, 0.891768217086792, 0.8920165300369263, 0.8918690085411072, 0.892001211643219, 0.891876220703125], 'val_loss': [0.3033813536167145, 0.29889076948165894, 0.2942076325416565, 0.2948562800884247, 0.29343515634536743, 0.2917945981025696, 0.287529319524765, 0.28645122051239014, 0.2877735495567322, 0.28809085488319397, 0.28523579239845276, 0.282039999961853, 0.28117209672927856, 0.2820647656917572, 0.2824837267398834, 0.282995343208313, 0.2802683115005493, 0.28196099400520325, 0.2865668535232544, 0.2818569839000702], 'val_binary_accuracy': [0.8895009160041809, 0.8901587724685669, 0.8901652693748474, 0.889920175075531, 0.8901523351669312, 0.8895395994186401, 0.8923259377479553, 0.8922033905982971, 0.8919260501861572, 0.8909779191017151, 0.8897524476051331, 0.8921002149581909, 0.8925387859344482, 0.8917132019996643, 0.8917970657348633, 0.8914422988891602, 0.8916551470756531, 0.8919131755828857, 0.8889526724815369, 0.8908295631408691]}\n"
     ]
    }
   ],
   "source": [
    "print(vae_hist.history)"
   ]
  },
  {
   "cell_type": "code",
   "execution_count": 31,
   "metadata": {},
   "outputs": [
    {
     "data": {
      "image/png": "[encoded data removed]",
      "text/plain": [
       "<Figure size 700x500 with 1 Axes>"
      ]
     },
     "metadata": {},
     "output_type": "display_data"
    }
   ],
   "source": [
    "bins=100\n",
    "ax = plt.figure(figsize=(7,5), dpi=100, facecolor=\"w\").add_subplot(111)\n",
    "ax.xaxis.grid(True, which=\"major\")\n",
    "ax.yaxis.grid(True, which=\"major\")\n",
    "ax.hist(output_SM,\n",
    "        bins=bins, \n",
    "        density=1,\n",
    "        range=[0.,1.],\n",
    "        histtype=\"step\",\n",
    "        color=\"red\",\n",
    "        alpha=0.6,\n",
    "        linewidth=2,\n",
    "        label=\"SM Output\"\n",
    "        )                        \n",
    "ax.hist(output_BSM,\n",
    "        bins=bins, \n",
    "        density=1,\n",
    "        range=[0.,1.],\n",
    "        histtype=\"step\",\n",
    "        color=\"blue\",\n",
    "        alpha=0.6,\n",
    "        linewidth=2,\n",
    "        label=\"BSM Output\"\n",
    "        )                         \n",
    "plt.rc('legend',fontsize='small')    \n",
    "plt.title(\"SM and BSM classification output\") \n",
    "plt.show()"
   ]
  },
  {
   "cell_type": "code",
   "execution_count": 32,
   "metadata": {},
   "outputs": [
    {
     "data": {
      "image/png": "[encoded data removed]",
      "text/plain": [
       "<Figure size 700x500 with 1 Axes>"
      ]
     },
     "metadata": {},
     "output_type": "display_data"
    }
   ],
   "source": [
    "x_bins = range(len(vae_hist.history[\"loss\"]))\n",
    "ax = plt.figure(figsize=(7,5), dpi=100, facecolor=\"w\").add_subplot(111)\n",
    "ax.xaxis.grid(True, which=\"major\")\n",
    "ax.yaxis.grid(True, which=\"major\")\n",
    "ax.plot(x_bins,vae_hist.history[\"loss\"],color=\"blue\",label=\"training losss\")                        \n",
    "plt.rc('legend',fontsize='small') \n",
    "plt.title(\"loss\")    \n",
    "plt.show()"
   ]
  },
  {
   "cell_type": "code",
   "execution_count": 33,
   "metadata": {},
   "outputs": [
    {
     "data": {
      "image/png": "[encoded data removed]",
      "text/plain": [
       "<Figure size 700x500 with 1 Axes>"
      ]
     },
     "metadata": {},
     "output_type": "display_data"
    }
   ],
   "source": [
    "x_bins = range(len(vae_hist.history[\"binary_accuracy\"]))\n",
    "ax = plt.figure(figsize=(7,5), dpi=100, facecolor=\"w\").add_subplot(111)\n",
    "ax.xaxis.grid(True, which=\"major\")\n",
    "ax.yaxis.grid(True, which=\"major\")\n",
    "ax.plot(x_bins,vae_hist.history[\"binary_accuracy\"],color=\"blue\",label=\"binary accuracy\")                        \n",
    "plt.rc('legend',fontsize='small')   \n",
    "plt.title(\"accuracy diagram\") \n",
    "plt.show()"
   ]
  },
  {
   "cell_type": "code",
   "execution_count": null,
   "metadata": {},
   "outputs": [],
   "source": []
  }
 ],
 "metadata": {
  "kernelspec": {
   "display_name": "Python 3.10.5 ('root_environment')",
   "language": "python",
   "name": "python3"
  },
  "language_info": {
   "codemirror_mode": {
    "name": "ipython",
    "version": 3
   },
   "file_extension": ".py",
   "mimetype": "text/x-python",
   "name": "python",
   "nbconvert_exporter": "python",
   "pygments_lexer": "ipython3",
   "version": "3.10.5"
  },
  "orig_nbformat": 4,
  "vscode": {
   "interpreter": {
    "hash": "29c996b962506192a5bf5f3dffbc4e0e67313f4f4caad8b7eec54ceabe2f0cb2"
   }
  }
 },
 "nbformat": 4,
 "nbformat_minor": 2
}
