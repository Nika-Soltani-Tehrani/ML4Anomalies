{
 "cells": [
  {
   "cell_type": "code",
   "execution_count": 1,
   "metadata": {},
   "outputs": [
    {
     "name": "stderr",
     "output_type": "stream",
     "text": [
      "2022-07-22 13:50:55.748619: W tensorflow/stream_executor/platform/default/dso_loader.cc:64] Could not load dynamic library 'libcudart.so.11.0'; dlerror: libcudart.so.11.0: cannot open shared object file: No such file or directory\n",
      "2022-07-22 13:50:55.748746: I tensorflow/stream_executor/cuda/cudart_stub.cc:29] Ignore above cudart dlerror if you do not have a GPU set up on your machine.\n"
     ]
    },
    {
     "name": "stdout",
     "output_type": "stream",
     "text": [
      "Welcome to JupyROOT 6.26/04\n"
     ]
    }
   ],
   "source": [
    "from sklearn.model_selection import train_test_split\n",
    "from sklearn.preprocessing import MinMaxScaler\n",
    "from sklearn.preprocessing import StandardScaler\n",
    "\n",
    "import sys\n",
    "import numpy\n",
    "import pandas as pd\n",
    "import tensorflow as tf\n",
    "from keras import layers\n",
    "import keras\n",
    "\n",
    "\n",
    "#taking the model\n",
    "#from VAE_model_extended_moreDKL import *\n",
    "from VAE_testDK_Reco_Loss import *\n",
    "import matplotlib.pyplot as plt\n",
    "\n",
    "import ROOT"
   ]
  },
  {
   "cell_type": "code",
   "execution_count": 2,
   "metadata": {},
   "outputs": [],
   "source": [
    "ROOT.ROOT.EnableImplicitMT()\n",
    "#RDataFrame = ROOT.RDF.Experimental.Distributed.Spark.RDataFrame"
   ]
  },
  {
   "cell_type": "markdown",
   "metadata": {},
   "source": [
    "### variable from the nutple"
   ]
  },
  {
   "cell_type": "code",
   "execution_count": 3,
   "metadata": {},
   "outputs": [],
   "source": [
    "#pd_variables = ['deltaetajj', 'deltaphijj', 'etaj1', 'etaj2', 'etal1', 'etal2',\n",
    "#       'met', 'mjj', 'mll',  'ptj1', 'ptj2', 'ptl1',\n",
    "#       'ptl2', 'ptll']#,'phij1', 'phij2', 'w']\n",
    "#kinematicFilter = \"ptj1 > 30 && ptj2 >30 && deltaetajj>2 && mjj>200\"\n",
    "kinematicFilter = \"ptj1 > 30 && abs(etaj1-etaj2) > 2. && ptj2 >30 && mjj>200\"\n",
    "ntuple_location = \"../../ntuples4Momentum/\""
   ]
  },
  {
   "cell_type": "code",
   "execution_count": 4,
   "metadata": {},
   "outputs": [
    {
     "data": {
      "text/html": [
       "<div>\n",
       "<style scoped>\n",
       "    .dataframe tbody tr th:only-of-type {\n",
       "        vertical-align: middle;\n",
       "    }\n",
       "\n",
       "    .dataframe tbody tr th {\n",
       "        vertical-align: top;\n",
       "    }\n",
       "\n",
       "    .dataframe thead th {\n",
       "        text-align: right;\n",
       "    }\n",
       "</style>\n",
       "<table border=\"1\" class=\"dataframe\">\n",
       "  <thead>\n",
       "    <tr style=\"text-align: right;\">\n",
       "      <th></th>\n",
       "      <th>Ej1</th>\n",
       "      <th>Ej2</th>\n",
       "      <th>El1</th>\n",
       "      <th>El2</th>\n",
       "      <th>etaj1</th>\n",
       "      <th>etaj2</th>\n",
       "      <th>etal1</th>\n",
       "      <th>etal2</th>\n",
       "      <th>met</th>\n",
       "      <th>mjj</th>\n",
       "      <th>...</th>\n",
       "      <th>pxl2</th>\n",
       "      <th>pyj1</th>\n",
       "      <th>pyj2</th>\n",
       "      <th>pyl1</th>\n",
       "      <th>pyl2</th>\n",
       "      <th>pzj1</th>\n",
       "      <th>pzj2</th>\n",
       "      <th>pzl1</th>\n",
       "      <th>pzl2</th>\n",
       "      <th>w</th>\n",
       "    </tr>\n",
       "  </thead>\n",
       "  <tbody>\n",
       "    <tr>\n",
       "      <th>0</th>\n",
       "      <td>303.458801</td>\n",
       "      <td>701.662598</td>\n",
       "      <td>66.335213</td>\n",
       "      <td>61.839161</td>\n",
       "      <td>-1.531009</td>\n",
       "      <td>1.705899</td>\n",
       "      <td>-1.010756</td>\n",
       "      <td>0.059856</td>\n",
       "      <td>115.725586</td>\n",
       "      <td>914.647095</td>\n",
       "      <td>...</td>\n",
       "      <td>-46.985771</td>\n",
       "      <td>18.432892</td>\n",
       "      <td>-183.381699</td>\n",
       "      <td>20.959143</td>\n",
       "      <td>40.034378</td>\n",
       "      <td>-276.328735</td>\n",
       "      <td>656.85614</td>\n",
       "      <td>-50.817711</td>\n",
       "      <td>3.697025</td>\n",
       "      <td>0.005543</td>\n",
       "    </tr>\n",
       "    <tr>\n",
       "      <th>1</th>\n",
       "      <td>3651.136963</td>\n",
       "      <td>1009.032227</td>\n",
       "      <td>20.087341</td>\n",
       "      <td>50.679325</td>\n",
       "      <td>4.309694</td>\n",
       "      <td>-1.440623</td>\n",
       "      <td>-1.145179</td>\n",
       "      <td>-1.002823</td>\n",
       "      <td>363.730774</td>\n",
       "      <td>3743.060303</td>\n",
       "      <td>...</td>\n",
       "      <td>-30.832169</td>\n",
       "      <td>-93.790749</td>\n",
       "      <td>186.751892</td>\n",
       "      <td>11.565145</td>\n",
       "      <td>-11.108819</td>\n",
       "      <td>3649.818604</td>\n",
       "      <td>-901.89624</td>\n",
       "      <td>-16.394295</td>\n",
       "      <td>-38.657024</td>\n",
       "      <td>0.005543</td>\n",
       "    </tr>\n",
       "  </tbody>\n",
       "</table>\n",
       "<p>2 rows × 33 columns</p>\n",
       "</div>"
      ],
      "text/plain": [
       "           Ej1          Ej2        El1        El2     etaj1     etaj2  \\\n",
       "0   303.458801   701.662598  66.335213  61.839161 -1.531009  1.705899   \n",
       "1  3651.136963  1009.032227  20.087341  50.679325  4.309694 -1.440623   \n",
       "\n",
       "      etal1     etal2         met          mjj  ...       pxl2       pyj1  \\\n",
       "0 -1.010756  0.059856  115.725586   914.647095  ... -46.985771  18.432892   \n",
       "1 -1.145179 -1.002823  363.730774  3743.060303  ... -30.832169 -93.790749   \n",
       "\n",
       "         pyj2       pyl1       pyl2         pzj1       pzj2       pzl1  \\\n",
       "0 -183.381699  20.959143  40.034378  -276.328735  656.85614 -50.817711   \n",
       "1  186.751892  11.565145 -11.108819  3649.818604 -901.89624 -16.394295   \n",
       "\n",
       "        pzl2         w  \n",
       "0   3.697025  0.005543  \n",
       "1 -38.657024  0.005543  \n",
       "\n",
       "[2 rows x 33 columns]"
      ]
     },
     "execution_count": 4,
     "metadata": {},
     "output_type": "execute_result"
    }
   ],
   "source": [
    "dfSM = ROOT.RDataFrame(\"SSWW_SM\",ntuple_location+\"ntuple_SSWW_SM.root\")\n",
    "dfSM = dfSM.Filter(kinematicFilter)\n",
    "dfBSM = ROOT.RDataFrame(\"SSWW_cW_QU\",ntuple_location+\"ntuple_SSWW_cW_QU.root\")\n",
    "dfBSM = dfBSM.Filter(kinematicFilter)\n",
    "np_SM = dfSM.AsNumpy()\n",
    "wSM = dfSM.AsNumpy([\"w\"])\n",
    "npd = pd.DataFrame.from_dict(np_SM)\n",
    "npd.head(2)"
   ]
  },
  {
   "cell_type": "code",
   "execution_count": 5,
   "metadata": {},
   "outputs": [
    {
     "data": {
      "text/html": [
       "<div>\n",
       "<style scoped>\n",
       "    .dataframe tbody tr th:only-of-type {\n",
       "        vertical-align: middle;\n",
       "    }\n",
       "\n",
       "    .dataframe tbody tr th {\n",
       "        vertical-align: top;\n",
       "    }\n",
       "\n",
       "    .dataframe thead th {\n",
       "        text-align: right;\n",
       "    }\n",
       "</style>\n",
       "<table border=\"1\" class=\"dataframe\">\n",
       "  <thead>\n",
       "    <tr style=\"text-align: right;\">\n",
       "      <th></th>\n",
       "      <th>Ej1</th>\n",
       "      <th>Ej2</th>\n",
       "      <th>El1</th>\n",
       "      <th>El2</th>\n",
       "      <th>etaj1</th>\n",
       "      <th>etaj2</th>\n",
       "      <th>etal1</th>\n",
       "      <th>etal2</th>\n",
       "      <th>met</th>\n",
       "      <th>mjj</th>\n",
       "      <th>...</th>\n",
       "      <th>pxl1</th>\n",
       "      <th>pxl2</th>\n",
       "      <th>pyj1</th>\n",
       "      <th>pyj2</th>\n",
       "      <th>pyl1</th>\n",
       "      <th>pyl2</th>\n",
       "      <th>pzj1</th>\n",
       "      <th>pzj2</th>\n",
       "      <th>pzl1</th>\n",
       "      <th>pzl2</th>\n",
       "    </tr>\n",
       "  </thead>\n",
       "  <tbody>\n",
       "    <tr>\n",
       "      <th>0</th>\n",
       "      <td>303.458801</td>\n",
       "      <td>701.662598</td>\n",
       "      <td>66.335213</td>\n",
       "      <td>61.839161</td>\n",
       "      <td>-1.531009</td>\n",
       "      <td>1.705899</td>\n",
       "      <td>-1.010756</td>\n",
       "      <td>0.059856</td>\n",
       "      <td>115.725586</td>\n",
       "      <td>914.647095</td>\n",
       "      <td>...</td>\n",
       "      <td>37.129974</td>\n",
       "      <td>-46.985771</td>\n",
       "      <td>18.432892</td>\n",
       "      <td>-183.381699</td>\n",
       "      <td>20.959143</td>\n",
       "      <td>40.034378</td>\n",
       "      <td>-276.328735</td>\n",
       "      <td>656.85614</td>\n",
       "      <td>-50.817711</td>\n",
       "      <td>3.697025</td>\n",
       "    </tr>\n",
       "    <tr>\n",
       "      <th>1</th>\n",
       "      <td>3651.136963</td>\n",
       "      <td>1009.032227</td>\n",
       "      <td>20.087341</td>\n",
       "      <td>50.679325</td>\n",
       "      <td>4.309694</td>\n",
       "      <td>-1.440623</td>\n",
       "      <td>-1.145179</td>\n",
       "      <td>-1.002823</td>\n",
       "      <td>363.730774</td>\n",
       "      <td>3743.060303</td>\n",
       "      <td>...</td>\n",
       "      <td>-0.987826</td>\n",
       "      <td>-30.832169</td>\n",
       "      <td>-93.790749</td>\n",
       "      <td>186.751892</td>\n",
       "      <td>11.565145</td>\n",
       "      <td>-11.108819</td>\n",
       "      <td>3649.818604</td>\n",
       "      <td>-901.89624</td>\n",
       "      <td>-16.394295</td>\n",
       "      <td>-38.657024</td>\n",
       "    </tr>\n",
       "  </tbody>\n",
       "</table>\n",
       "<p>2 rows × 28 columns</p>\n",
       "</div>"
      ],
      "text/plain": [
       "           Ej1          Ej2        El1        El2     etaj1     etaj2  \\\n",
       "0   303.458801   701.662598  66.335213  61.839161 -1.531009  1.705899   \n",
       "1  3651.136963  1009.032227  20.087341  50.679325  4.309694 -1.440623   \n",
       "\n",
       "      etal1     etal2         met          mjj  ...       pxl1       pxl2  \\\n",
       "0 -1.010756  0.059856  115.725586   914.647095  ...  37.129974 -46.985771   \n",
       "1 -1.145179 -1.002823  363.730774  3743.060303  ...  -0.987826 -30.832169   \n",
       "\n",
       "        pyj1        pyj2       pyl1       pyl2         pzj1       pzj2  \\\n",
       "0  18.432892 -183.381699  20.959143  40.034378  -276.328735  656.85614   \n",
       "1 -93.790749  186.751892  11.565145 -11.108819  3649.818604 -901.89624   \n",
       "\n",
       "        pzl1       pzl2  \n",
       "0 -50.817711   3.697025  \n",
       "1 -16.394295 -38.657024  \n",
       "\n",
       "[2 rows x 28 columns]"
      ]
     },
     "execution_count": 5,
     "metadata": {},
     "output_type": "execute_result"
    }
   ],
   "source": [
    "npd.drop(['w','phil1','phil2',\"phij1\",\"phij2\"],axis='columns', inplace=True)\n",
    "npd.head(2)"
   ]
  },
  {
   "cell_type": "code",
   "execution_count": 6,
   "metadata": {},
   "outputs": [
    {
     "data": {
      "text/html": [
       "<div>\n",
       "<style scoped>\n",
       "    .dataframe tbody tr th:only-of-type {\n",
       "        vertical-align: middle;\n",
       "    }\n",
       "\n",
       "    .dataframe tbody tr th {\n",
       "        vertical-align: top;\n",
       "    }\n",
       "\n",
       "    .dataframe thead th {\n",
       "        text-align: right;\n",
       "    }\n",
       "</style>\n",
       "<table border=\"1\" class=\"dataframe\">\n",
       "  <thead>\n",
       "    <tr style=\"text-align: right;\">\n",
       "      <th></th>\n",
       "      <th>w</th>\n",
       "    </tr>\n",
       "  </thead>\n",
       "  <tbody>\n",
       "    <tr>\n",
       "      <th>0</th>\n",
       "      <td>0.005578</td>\n",
       "    </tr>\n",
       "    <tr>\n",
       "      <th>1</th>\n",
       "      <td>0.005578</td>\n",
       "    </tr>\n",
       "  </tbody>\n",
       "</table>\n",
       "</div>"
      ],
      "text/plain": [
       "          w\n",
       "0  0.005578\n",
       "1  0.005578"
      ]
     },
     "execution_count": 6,
     "metadata": {},
     "output_type": "execute_result"
    }
   ],
   "source": [
    "wpdSM = pd.DataFrame.from_dict(wSM)\n",
    "wpdSM.head(2)\n",
    "# npd.info()"
   ]
  },
  {
   "cell_type": "code",
   "execution_count": 7,
   "metadata": {},
   "outputs": [
    {
     "data": {
      "text/html": [
       "<div>\n",
       "<style scoped>\n",
       "    .dataframe tbody tr th:only-of-type {\n",
       "        vertical-align: middle;\n",
       "    }\n",
       "\n",
       "    .dataframe tbody tr th {\n",
       "        vertical-align: top;\n",
       "    }\n",
       "\n",
       "    .dataframe thead th {\n",
       "        text-align: right;\n",
       "    }\n",
       "</style>\n",
       "<table border=\"1\" class=\"dataframe\">\n",
       "  <thead>\n",
       "    <tr style=\"text-align: right;\">\n",
       "      <th></th>\n",
       "      <th>Ej1</th>\n",
       "      <th>Ej2</th>\n",
       "      <th>El1</th>\n",
       "      <th>El2</th>\n",
       "      <th>etaj1</th>\n",
       "      <th>etaj2</th>\n",
       "      <th>etal1</th>\n",
       "      <th>etal2</th>\n",
       "      <th>met</th>\n",
       "      <th>mjj</th>\n",
       "      <th>...</th>\n",
       "      <th>pxl2</th>\n",
       "      <th>pyj1</th>\n",
       "      <th>pyj2</th>\n",
       "      <th>pyl1</th>\n",
       "      <th>pyl2</th>\n",
       "      <th>pzj1</th>\n",
       "      <th>pzj2</th>\n",
       "      <th>pzl1</th>\n",
       "      <th>pzl2</th>\n",
       "      <th>w</th>\n",
       "    </tr>\n",
       "  </thead>\n",
       "  <tbody>\n",
       "    <tr>\n",
       "      <th>0</th>\n",
       "      <td>800.932922</td>\n",
       "      <td>3766.025879</td>\n",
       "      <td>42.786198</td>\n",
       "      <td>499.031891</td>\n",
       "      <td>-2.564578</td>\n",
       "      <td>3.370996</td>\n",
       "      <td>0.230144</td>\n",
       "      <td>0.919019</td>\n",
       "      <td>30.624445</td>\n",
       "      <td>3454.649170</td>\n",
       "      <td>...</td>\n",
       "      <td>-229.171600</td>\n",
       "      <td>118.484314</td>\n",
       "      <td>134.396973</td>\n",
       "      <td>-26.105608</td>\n",
       "      <td>-255.849304</td>\n",
       "      <td>-791.503235</td>\n",
       "      <td>3757.146240</td>\n",
       "      <td>9.676733</td>\n",
       "      <td>362.014282</td>\n",
       "      <td>0.003932</td>\n",
       "    </tr>\n",
       "    <tr>\n",
       "      <th>1</th>\n",
       "      <td>1141.393799</td>\n",
       "      <td>926.677429</td>\n",
       "      <td>343.436157</td>\n",
       "      <td>715.718445</td>\n",
       "      <td>2.678149</td>\n",
       "      <td>-2.400338</td>\n",
       "      <td>1.294819</td>\n",
       "      <td>-1.300454</td>\n",
       "      <td>195.658157</td>\n",
       "      <td>2030.949951</td>\n",
       "      <td>...</td>\n",
       "      <td>-351.055298</td>\n",
       "      <td>-118.407394</td>\n",
       "      <td>-130.242081</td>\n",
       "      <td>161.676956</td>\n",
       "      <td>-92.347092</td>\n",
       "      <td>1130.673462</td>\n",
       "      <td>-911.559448</td>\n",
       "      <td>295.486816</td>\n",
       "      <td>-616.834717</td>\n",
       "      <td>0.003932</td>\n",
       "    </tr>\n",
       "  </tbody>\n",
       "</table>\n",
       "<p>2 rows × 33 columns</p>\n",
       "</div>"
      ],
      "text/plain": [
       "           Ej1          Ej2         El1         El2     etaj1     etaj2  \\\n",
       "0   800.932922  3766.025879   42.786198  499.031891 -2.564578  3.370996   \n",
       "1  1141.393799   926.677429  343.436157  715.718445  2.678149 -2.400338   \n",
       "\n",
       "      etal1     etal2         met          mjj  ...        pxl2        pyj1  \\\n",
       "0  0.230144  0.919019   30.624445  3454.649170  ... -229.171600  118.484314   \n",
       "1  1.294819 -1.300454  195.658157  2030.949951  ... -351.055298 -118.407394   \n",
       "\n",
       "         pyj2        pyl1        pyl2         pzj1         pzj2        pzl1  \\\n",
       "0  134.396973  -26.105608 -255.849304  -791.503235  3757.146240    9.676733   \n",
       "1 -130.242081  161.676956  -92.347092  1130.673462  -911.559448  295.486816   \n",
       "\n",
       "         pzl2         w  \n",
       "0  362.014282  0.003932  \n",
       "1 -616.834717  0.003932  \n",
       "\n",
       "[2 rows x 33 columns]"
      ]
     },
     "execution_count": 7,
     "metadata": {},
     "output_type": "execute_result"
    }
   ],
   "source": [
    "# Take all columns og dfBSM because of using RDateFrame.AsNumpy() without any filter\n",
    "np_BSM = dfBSM.AsNumpy()\n",
    "wBSM = dfBSM.AsNumpy([\"w\"])\n",
    "npd_BSM = pd.DataFrame.from_dict(np_BSM)\n",
    "npd_BSM.head(2)"
   ]
  },
  {
   "cell_type": "code",
   "execution_count": 8,
   "metadata": {},
   "outputs": [
    {
     "data": {
      "text/html": [
       "<div>\n",
       "<style scoped>\n",
       "    .dataframe tbody tr th:only-of-type {\n",
       "        vertical-align: middle;\n",
       "    }\n",
       "\n",
       "    .dataframe tbody tr th {\n",
       "        vertical-align: top;\n",
       "    }\n",
       "\n",
       "    .dataframe thead th {\n",
       "        text-align: right;\n",
       "    }\n",
       "</style>\n",
       "<table border=\"1\" class=\"dataframe\">\n",
       "  <thead>\n",
       "    <tr style=\"text-align: right;\">\n",
       "      <th></th>\n",
       "      <th>w</th>\n",
       "    </tr>\n",
       "  </thead>\n",
       "  <tbody>\n",
       "    <tr>\n",
       "      <th>0</th>\n",
       "      <td>0.003936</td>\n",
       "    </tr>\n",
       "    <tr>\n",
       "      <th>1</th>\n",
       "      <td>0.003936</td>\n",
       "    </tr>\n",
       "  </tbody>\n",
       "</table>\n",
       "</div>"
      ],
      "text/plain": [
       "          w\n",
       "0  0.003936\n",
       "1  0.003936"
      ]
     },
     "execution_count": 8,
     "metadata": {},
     "output_type": "execute_result"
    }
   ],
   "source": [
    "npd_BSM.drop(['w','phil1','phil2',\"phij1\",\"phij2\"],axis='columns', inplace=True)\n",
    "wpdBSM = pd.DataFrame.from_dict(wBSM)\n",
    "wpdBSM.head(2)"
   ]
  },
  {
   "cell_type": "code",
   "execution_count": 9,
   "metadata": {},
   "outputs": [],
   "source": [
    "nEntries = 3000000\n",
    "npd = npd.head(nEntries)\n",
    "npd_BSM = npd_BSM.head(nEntries)\n",
    "wpdSM = wpdSM.head(nEntries)\n",
    "wpdBSM = wpdBSM.head(nEntries)"
   ]
  },
  {
   "cell_type": "code",
   "execution_count": 10,
   "metadata": {},
   "outputs": [],
   "source": [
    "# #to be done for all the pt and mass and met variables\n",
    "for var in ['met', 'mjj', 'mll',  'ptj1', 'ptj2', 'ptl1',\n",
    "            'ptl2', 'ptll',\"Ej1\",\"Ej2\",\"El1\",\"El2\"]:\n",
    "   npd[var] = np.log10(npd[var])\n",
    "   npd_BSM[var] = np.log10(npd_BSM[var])"
   ]
  },
  {
   "cell_type": "code",
   "execution_count": 12,
   "metadata": {},
   "outputs": [],
   "source": [
    "Y_true = np.full(npd.shape[0],0)\n",
    "Y_true_BSM = np.full(npd_BSM.shape[0],1)\n",
    "#concatenating SM and BSM\n",
    "samples = np.concatenate((npd,npd_BSM))\n",
    "labels = np.concatenate((Y_true,Y_true_BSM))\n",
    "\n",
    "X_train, X_test, y_train, y_test = train_test_split(samples, labels, test_size=0.2, random_state=1)\n",
    "SM_train,SM_test,_,_ = train_test_split(npd, npd, test_size=0.2, random_state=1)\n",
    "BSM_train,BSM_test,_,_ = train_test_split(npd_BSM, npd_BSM, test_size=0.2, random_state=1)\n",
    "#wx_train, wx_test, wy_train, wy_test = train_test_split(wpdSM, wpdSM, test_size=0.2, random_state=1)\n",
    "\n",
    "#BSM_train, BSM_test, y_BSM_train, y_BSM_test = train_test_split(npd_BSM, Y_true_BSM, test_size=0.2, random_state=1)\n",
    "#wBSM_train, wBSM_test, _ , _ = train_test_split(wpdBSM, wpdBSM, test_size=0.2, random_state=1)\n",
    "#print wx_train,X_train\n",
    "#wx = wx_train[\"w\"].to_numpy()\n",
    "#wxtest = wx_test[\"w\"].to_numpy()\n",
    "#wBSM = wBSM_train[\"w\"].to_numpy()\n",
    "#wBSMtest = wBSM_test[\"w\"].to_numpy()"
   ]
  },
  {
   "cell_type": "code",
   "execution_count": 13,
   "metadata": {},
   "outputs": [
    {
     "name": "stderr",
     "output_type": "stream",
     "text": [
      "/home/nika/anaconda3/envs/root_environment/lib/python3.10/site-packages/sklearn/base.py:450: UserWarning: X does not have valid feature names, but MinMaxScaler was fitted with feature names\n",
      "  warnings.warn(\n",
      "/home/nika/anaconda3/envs/root_environment/lib/python3.10/site-packages/sklearn/base.py:450: UserWarning: X does not have valid feature names, but MinMaxScaler was fitted with feature names\n",
      "  warnings.warn(\n"
     ]
    }
   ],
   "source": [
    "# scale data\n",
    "\n",
    "scaler = MinMaxScaler()\n",
    "#scaler = StandardScaler()\n",
    "scaler.fit(SM_train)\n",
    "X_train = scaler.transform(X_train)\n",
    "X_test = scaler.transform(X_test)\n",
    "BSM_test = scaler.transform(BSM_test)"
   ]
  },
  {
   "cell_type": "code",
   "execution_count": 14,
   "metadata": {},
   "outputs": [],
   "source": [
    "n_inputs = npd.shape[1]\n",
    "original_dim = n_inputs\n",
    "\n",
    "intermediate_dim = 50 #50 by default\n",
    "input_dim = 10 #was 20 in default\n",
    "half_input = 7 #was 20 in the newTest\n",
    "latent_dim = 10 #tried 7 as well  #was 3 for optimal performance\n",
    "epochs = 20 #80\n",
    "batch_size=64 #32\n",
    "nameExtenstion = str(intermediate_dim) + \"_\" +\\\n",
    "                 str(input_dim) + \"_\" +\\\n",
    "                 str(half_input) + \"_\" +\\\n",
    "                 str(latent_dim) + \"_\" +\\\n",
    "                 str(epochs) + \"_\" +\\\n",
    "                 str(batch_size)\n"
   ]
  },
  {
   "cell_type": "code",
   "execution_count": 15,
   "metadata": {},
   "outputs": [
    {
     "name": "stdout",
     "output_type": "stream",
     "text": [
      "Epoch 1/20\n",
      "19381/19381 [==============================] - 154s 8ms/step - loss: 0.3693 - binary_accuracy: 0.8654 - val_loss: 0.3174 - val_binary_accuracy: 0.8880\n",
      "Epoch 2/20\n",
      "19381/19381 [==============================] - 155s 8ms/step - loss: 0.3136 - binary_accuracy: 0.8887 - val_loss: 0.3109 - val_binary_accuracy: 0.8896\n",
      "Epoch 3/20\n",
      "19381/19381 [==============================] - 159s 8ms/step - loss: 0.3092 - binary_accuracy: 0.8895 - val_loss: 0.3073 - val_binary_accuracy: 0.8895\n",
      "Epoch 4/20\n",
      "19381/19381 [==============================] - 162s 8ms/step - loss: 0.3066 - binary_accuracy: 0.8901 - val_loss: 0.3079 - val_binary_accuracy: 0.8899\n",
      "Epoch 5/20\n",
      "19381/19381 [==============================] - 159s 8ms/step - loss: 0.3038 - binary_accuracy: 0.8905 - val_loss: 0.3014 - val_binary_accuracy: 0.8923\n",
      "Epoch 6/20\n",
      "19381/19381 [==============================] - 159s 8ms/step - loss: 0.3013 - binary_accuracy: 0.8908 - val_loss: 0.3045 - val_binary_accuracy: 0.8890\n",
      "Epoch 7/20\n",
      "19381/19381 [==============================] - 180s 9ms/step - loss: 0.3002 - binary_accuracy: 0.8911 - val_loss: 0.2975 - val_binary_accuracy: 0.8924\n",
      "Epoch 8/20\n",
      "19381/19381 [==============================] - 162s 8ms/step - loss: 0.2994 - binary_accuracy: 0.8911 - val_loss: 0.2960 - val_binary_accuracy: 0.8924\n",
      "Epoch 9/20\n",
      "19381/19381 [==============================] - 161s 8ms/step - loss: 0.2988 - binary_accuracy: 0.8914 - val_loss: 0.2965 - val_binary_accuracy: 0.8918\n",
      "Epoch 10/20\n",
      "19381/19381 [==============================] - 157s 8ms/step - loss: 0.2983 - binary_accuracy: 0.8913 - val_loss: 0.2956 - val_binary_accuracy: 0.8924\n",
      "Epoch 11/20\n",
      "19381/19381 [==============================] - 158s 8ms/step - loss: 0.2976 - binary_accuracy: 0.8915 - val_loss: 0.2937 - val_binary_accuracy: 0.8929\n",
      "Epoch 12/20\n",
      "19381/19381 [==============================] - 154s 8ms/step - loss: 0.2974 - binary_accuracy: 0.8913 - val_loss: 0.2939 - val_binary_accuracy: 0.8928\n",
      "Epoch 13/20\n",
      "19381/19381 [==============================] - 155s 8ms/step - loss: 0.2970 - binary_accuracy: 0.8917 - val_loss: 0.2941 - val_binary_accuracy: 0.8930\n",
      "Epoch 14/20\n",
      "19381/19381 [==============================] - 152s 8ms/step - loss: 0.2965 - binary_accuracy: 0.8917 - val_loss: 0.2936 - val_binary_accuracy: 0.8929\n",
      "Epoch 15/20\n",
      "19381/19381 [==============================] - 153s 8ms/step - loss: 0.2960 - binary_accuracy: 0.8919 - val_loss: 0.2951 - val_binary_accuracy: 0.8922\n",
      "Epoch 16/20\n",
      "19381/19381 [==============================] - 157s 8ms/step - loss: 0.2948 - binary_accuracy: 0.8917 - val_loss: 0.2980 - val_binary_accuracy: 0.8890\n",
      "Epoch 17/20\n",
      "19381/19381 [==============================] - 157s 8ms/step - loss: 0.2937 - binary_accuracy: 0.8917 - val_loss: 0.2931 - val_binary_accuracy: 0.8908\n",
      "Epoch 18/20\n",
      "19381/19381 [==============================] - 166s 9ms/step - loss: 0.2929 - binary_accuracy: 0.8919 - val_loss: 0.2928 - val_binary_accuracy: 0.8912\n",
      "Epoch 19/20\n",
      "19381/19381 [==============================] - 167s 9ms/step - loss: 0.2924 - binary_accuracy: 0.8919 - val_loss: 0.2900 - val_binary_accuracy: 0.8927\n",
      "Epoch 20/20\n",
      "19381/19381 [==============================] - 176s 9ms/step - loss: 0.2919 - binary_accuracy: 0.8921 - val_loss: 0.2901 - val_binary_accuracy: 0.8925\n",
      "9691/9691 [==============================] - 29s 3ms/step\n"
     ]
    },
    {
     "name": "stderr",
     "output_type": "stream",
     "text": [
      "2022-07-20 11:52:03.042181: W tensorflow/stream_executor/platform/default/dso_loader.cc:64] Could not load dynamic library 'libcuda.so.1'; dlerror: libcuda.so.1: cannot open shared object file: No such file or directory\n",
      "2022-07-20 11:52:03.042252: W tensorflow/stream_executor/cuda/cuda_driver.cc:269] failed call to cuInit: UNKNOWN ERROR (303)\n",
      "2022-07-20 11:52:03.042323: I tensorflow/stream_executor/cuda/cuda_diagnostics.cc:156] kernel driver does not appear to be running on this host (localhost): /proc/driver/nvidia/version does not exist\n",
      "2022-07-20 11:52:03.042966: I tensorflow/core/platform/cpu_feature_guard.cc:193] This TensorFlow binary is optimized with oneAPI Deep Neural Network Library (oneDNN) to use the following CPU instructions in performance-critical operations:  AVX2 FMA\n",
      "To enable them in other operations, rebuild TensorFlow with the appropriate compiler flags.\n",
      "2022-07-20 11:52:03.146782: W tensorflow/core/framework/cpu_allocator_impl.cc:82] Allocation of 138917856 exceeds 10% of free system memory.\n"
     ]
    }
   ],
   "source": [
    "vae = VariationalAutoEncoder(original_dim, \n",
    "                             intermediate_dim, \n",
    "                             input_dim, \n",
    "                             half_input, \n",
    "                             latent_dim,\n",
    "                             )  \n",
    "#vae.compile(\n",
    "#               optimizer=tf.keras.optimizers.Adam(learning_rate=0.0005),  \n",
    "#               loss=tf.keras.losses.MeanSquaredError()\n",
    "#           )\n",
    "#vae.compile(\n",
    "#               optimizer=tf.keras.optimizers.Adam(learning_rate=0.0005),\n",
    "#               run_eagerly=True, loss=\"binary_crossentropy\",\n",
    "#               metrics = [tf.keras.metrics.BinaryAccuracy()]\n",
    "#           )\n",
    "#vae.compile(\n",
    "#               optimizer=tf.keras.optimizers.Adam(learning_rate=0.0005), \n",
    "#               loss_weights=[0.1],loss=\"binary_crossentropy\",\n",
    "#               metrics = [tf.keras.metrics.BinaryAccuracy()]\n",
    "#           )\n",
    "vae.compile(\n",
    "                optimizer=tf.keras.optimizers.Adam(learning_rate=0.0005),\n",
    "                loss=\"binary_crossentropy\",\n",
    "                metrics = [tf.keras.metrics.BinaryAccuracy()]\n",
    "            )\n",
    "hist = vae.fit(X_train, y_train,validation_data=(X_test,y_test), epochs=epochs, batch_size = batch_size) \n",
    "#print \"new model: \", vae.summary()\n",
    "encoderDecoder =  EncoderDecoder(original_dim,intermediate_dim,input_dim,half_input,latent_dim)\n",
    "reco = encoderDecoder.predict(X_test)\n",
    "#encoder = LatentSpace(intermediate_dim,input_dim,half_input,latent_dim)\n",
    "#z = encoder.predict(X_train)"
   ]
  },
  {
   "cell_type": "code",
   "execution_count": 16,
   "metadata": {},
   "outputs": [
    {
     "name": "stderr",
     "output_type": "stream",
     "text": [
      "WARNING:absl:Found untraced functions such as dense_15_layer_call_fn, dense_15_layer_call_and_return_conditional_losses, encoder_leakyrelu_1_layer_call_fn, encoder_leakyrelu_1_layer_call_and_return_conditional_losses, dense_16_layer_call_fn while saving (showing 5 of 50). These functions will not be directly callable after loading.\n"
     ]
    },
    {
     "name": "stdout",
     "output_type": "stream",
     "text": [
      "INFO:tensorflow:Assets written to: encoderDecoder_newModelUsingKL_Reco_Loss_newWayToAddUpSamples_50_10_7_10_20_64/assets\n"
     ]
    },
    {
     "name": "stderr",
     "output_type": "stream",
     "text": [
      "INFO:tensorflow:Assets written to: encoderDecoder_newModelUsingKL_Reco_Loss_newWayToAddUpSamples_50_10_7_10_20_64/assets\n",
      "WARNING:absl:Found untraced functions such as dense_layer_call_fn, dense_layer_call_and_return_conditional_losses, encoder_leakyrelu_1_layer_call_fn, encoder_leakyrelu_1_layer_call_and_return_conditional_losses, dense_1_layer_call_fn while saving (showing 5 of 54). These functions will not be directly callable after loading.\n"
     ]
    },
    {
     "name": "stdout",
     "output_type": "stream",
     "text": [
      "INFO:tensorflow:Assets written to: vae_newModelUsingKL_Reco_Loss_newWayToAddUpSamples_50_10_7_10_20_64/assets\n"
     ]
    },
    {
     "name": "stderr",
     "output_type": "stream",
     "text": [
      "INFO:tensorflow:Assets written to: vae_newModelUsingKL_Reco_Loss_newWayToAddUpSamples_50_10_7_10_20_64/assets\n"
     ]
    }
   ],
   "source": [
    "keras.models.save_model(encoderDecoder,'encoderDecoder_newModelUsingKL_Reco_Loss_newWayToAddUpSamples_'+nameExtenstion)\n",
    "keras.models.save_model(vae,'vae_newModelUsingKL_Reco_Loss_newWayToAddUpSamples_'+nameExtenstion)\n",
    "#numpy.savetxt(\"lossVAE_test_newModelDimenstions_MinMaxScaler_\"+nameExtenstion+\".csv\",hist.history[\"loss\"],delimiter=\",\")\n",
    "#vae=tf.keras.models.load_model('vae_test_newModelUsingLatentSpace_'+nameExtenstion)"
   ]
  },
  {
   "cell_type": "code",
   "execution_count": 17,
   "metadata": {},
   "outputs": [
    {
     "name": "stdout",
     "output_type": "stream",
     "text": [
      "9691/9691 [==============================] - 32s 3ms/step\n",
      "4091/4091 [==============================] - 14s 3ms/step\n"
     ]
    }
   ],
   "source": [
    "output_SM = vae.predict(X_test)\n",
    "output_BSM = vae.predict(BSM_test)"
   ]
  },
  {
   "cell_type": "code",
   "execution_count": 20,
   "metadata": {},
   "outputs": [
    {
     "name": "stdout",
     "output_type": "stream",
     "text": [
      "[[0.15316768]\n",
      " [0.54910475]\n",
      " [0.8085883 ]\n",
      " ...\n",
      " [0.02492769]\n",
      " [0.97000456]\n",
      " [0.42212707]]\n"
     ]
    }
   ],
   "source": [
    "print(output_SM)"
   ]
  },
  {
   "cell_type": "code",
   "execution_count": 18,
   "metadata": {},
   "outputs": [
    {
     "data": {
      "image/png": "[encoded data removed]",
      "text/plain": [
       "<Figure size 700x500 with 1 Axes>"
      ]
     },
     "metadata": {},
     "output_type": "display_data"
    }
   ],
   "source": [
    "#print output_SM\n",
    "#print output_BSM\n",
    "bins=100\n",
    "ax = plt.figure(figsize=(7,5), dpi=100, facecolor=\"w\").add_subplot(111)\n",
    "ax.xaxis.grid(True, which=\"major\")\n",
    "ax.yaxis.grid(True, which=\"major\")\n",
    "ax.hist(output_SM,bins=bins, density=1,range=[0.,1.],histtype=\"step\",color=\"red\",alpha=0.6,linewidth=2,label=\"SM Output\")                        \n",
    "ax.hist(output_BSM,bins=bins, density=1,range=[0.,1.],histtype=\"step\",color=\"blue\",alpha=0.6,linewidth=2,label=\"BSM Output\")                        \n",
    "plt.rc('legend',fontsize='small')    \n",
    "plt.show()"
   ]
  },
  {
   "cell_type": "code",
   "execution_count": 19,
   "metadata": {},
   "outputs": [
    {
     "data": {
      "image/png": "[encoded data removed]",
      "text/plain": [
       "<Figure size 700x500 with 1 Axes>"
      ]
     },
     "metadata": {},
     "output_type": "display_data"
    }
   ],
   "source": [
    "x_bins = range(len(hist.history[\"loss\"]))\n",
    "ax = plt.figure(figsize=(7,5), dpi=100, facecolor=\"w\").add_subplot(111)\n",
    "ax.xaxis.grid(True, which=\"major\")\n",
    "ax.yaxis.grid(True, which=\"major\")\n",
    "ax.plot(x_bins,hist.history[\"loss\"],color=\"blue\",label=\"training losss\")                        \n",
    "plt.rc('legend',fontsize='small')    \n",
    "plt.show()"
   ]
  },
  {
   "cell_type": "code",
   "execution_count": null,
   "metadata": {},
   "outputs": [],
   "source": []
  }
 ],
 "metadata": {
  "kernelspec": {
   "display_name": "Python 3.10.5 ('root_environment')",
   "language": "python",
   "name": "python3"
  },
  "language_info": {
   "codemirror_mode": {
    "name": "ipython",
    "version": 3
   },
   "file_extension": ".py",
   "mimetype": "text/x-python",
   "name": "python",
   "nbconvert_exporter": "python",
   "pygments_lexer": "ipython3",
   "version": "3.10.5"
  },
  "orig_nbformat": 4,
  "vscode": {
   "interpreter": {
    "hash": "29c996b962506192a5bf5f3dffbc4e0e67313f4f4caad8b7eec54ceabe2f0cb2"
   }
  }
 },
 "nbformat": 4,
 "nbformat_minor": 2
}
