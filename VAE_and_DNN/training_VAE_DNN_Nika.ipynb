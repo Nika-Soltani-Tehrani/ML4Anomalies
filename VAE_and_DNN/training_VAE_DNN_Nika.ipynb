{
 "cells": [
  {
   "cell_type": "code",
   "execution_count": 1,
   "metadata": {},
   "outputs": [
    {
     "name": "stderr",
     "output_type": "stream",
     "text": [
      "2022-07-26 14:26:04.047680: W tensorflow/stream_executor/platform/default/dso_loader.cc:64] Could not load dynamic library 'libcudart.so.11.0'; dlerror: libcudart.so.11.0: cannot open shared object file: No such file or directory\n",
      "2022-07-26 14:26:04.047747: I tensorflow/stream_executor/cuda/cudart_stub.cc:29] Ignore above cudart dlerror if you do not have a GPU set up on your machine.\n"
     ]
    },
    {
     "name": "stdout",
     "output_type": "stream",
     "text": [
      "Welcome to JupyROOT 6.26/04\n"
     ]
    }
   ],
   "source": [
    "from sklearn.model_selection import train_test_split\n",
    "from sklearn.preprocessing import MinMaxScaler\n",
    "from sklearn.preprocessing import StandardScaler\n",
    "\n",
    "import sys\n",
    "import numpy\n",
    "import pandas as pd\n",
    "import tensorflow as tf\n",
    "from keras import layers\n",
    "import keras\n",
    "\n",
    "\n",
    "#taking the model\n",
    "#from VAE_model_extended_moreDKL import *\n",
    "from VAE_testDK_Reco_Loss import *\n",
    "import matplotlib.pyplot as plt\n",
    "\n",
    "import ROOT"
   ]
  },
  {
   "cell_type": "code",
   "execution_count": 2,
   "metadata": {},
   "outputs": [],
   "source": [
    "ROOT.ROOT.EnableImplicitMT()\n",
    "#RDataFrame = ROOT.RDF.Experimental.Distributed.Spark.RDataFrame"
   ]
  },
  {
   "cell_type": "code",
   "execution_count": 3,
   "metadata": {},
   "outputs": [],
   "source": [
    "DEBUGGING_MODE = True\n",
    "\n",
    "def pdf_summary(pdf, debugging_mode=DEBUGGING_MODE):\n",
    "    print(f\"Pandas DataFrame shape is: {pdf.shape}\")\n",
    "    if debugging_mode:\n",
    "        return pdf.head(2)"
   ]
  },
  {
   "cell_type": "markdown",
   "metadata": {},
   "source": [
    "### variable from the nutple"
   ]
  },
  {
   "cell_type": "code",
   "execution_count": 4,
   "metadata": {},
   "outputs": [],
   "source": [
    "#pd_variables = ['deltaetajj', 'deltaphijj', 'etaj1', 'etaj2', 'etal1', 'etal2',\n",
    "#       'met', 'mjj', 'mll',  'ptj1', 'ptj2', 'ptl1',\n",
    "#       'ptl2', 'ptll']#,'phij1', 'phij2', 'w']\n",
    "#kinematicFilter = \"ptj1 > 30 && ptj2 >30 && deltaetajj>2 && mjj>200\"\n",
    "kinematicFilter = \"ptj1 > 30 && abs(etaj1-etaj2) > 2. && ptj2 >30 && mjj>200\"\n",
    "ntuple_location = \"../../ntuples4Momentum/\""
   ]
  },
  {
   "cell_type": "code",
   "execution_count": 5,
   "metadata": {},
   "outputs": [
    {
     "name": "stdout",
     "output_type": "stream",
     "text": [
      "Pandas DataFrame shape is: (895962, 33)\n"
     ]
    },
    {
     "data": {
      "text/html": [
       "<div>\n",
       "<style scoped>\n",
       "    .dataframe tbody tr th:only-of-type {\n",
       "        vertical-align: middle;\n",
       "    }\n",
       "\n",
       "    .dataframe tbody tr th {\n",
       "        vertical-align: top;\n",
       "    }\n",
       "\n",
       "    .dataframe thead th {\n",
       "        text-align: right;\n",
       "    }\n",
       "</style>\n",
       "<table border=\"1\" class=\"dataframe\">\n",
       "  <thead>\n",
       "    <tr style=\"text-align: right;\">\n",
       "      <th></th>\n",
       "      <th>Ej1</th>\n",
       "      <th>Ej2</th>\n",
       "      <th>El1</th>\n",
       "      <th>El2</th>\n",
       "      <th>etaj1</th>\n",
       "      <th>etaj2</th>\n",
       "      <th>etal1</th>\n",
       "      <th>etal2</th>\n",
       "      <th>met</th>\n",
       "      <th>mjj</th>\n",
       "      <th>...</th>\n",
       "      <th>pxl2</th>\n",
       "      <th>pyj1</th>\n",
       "      <th>pyj2</th>\n",
       "      <th>pyl1</th>\n",
       "      <th>pyl2</th>\n",
       "      <th>pzj1</th>\n",
       "      <th>pzj2</th>\n",
       "      <th>pzl1</th>\n",
       "      <th>pzl2</th>\n",
       "      <th>w</th>\n",
       "    </tr>\n",
       "  </thead>\n",
       "  <tbody>\n",
       "    <tr>\n",
       "      <th>0</th>\n",
       "      <td>445.450439</td>\n",
       "      <td>681.225586</td>\n",
       "      <td>26.760035</td>\n",
       "      <td>45.736698</td>\n",
       "      <td>2.159561</td>\n",
       "      <td>-2.284282</td>\n",
       "      <td>0.156895</td>\n",
       "      <td>-0.608026</td>\n",
       "      <td>137.415924</td>\n",
       "      <td>1096.166138</td>\n",
       "      <td>...</td>\n",
       "      <td>-13.270928</td>\n",
       "      <td>101.113670</td>\n",
       "      <td>-86.905807</td>\n",
       "      <td>24.602694</td>\n",
       "      <td>-36.049252</td>\n",
       "      <td>433.746918</td>\n",
       "      <td>-667.238220</td>\n",
       "      <td>4.164406</td>\n",
       "      <td>-24.822960</td>\n",
       "      <td>0.005525</td>\n",
       "    </tr>\n",
       "    <tr>\n",
       "      <th>1</th>\n",
       "      <td>273.737152</td>\n",
       "      <td>519.859375</td>\n",
       "      <td>92.246094</td>\n",
       "      <td>77.770859</td>\n",
       "      <td>2.557865</td>\n",
       "      <td>-2.125509</td>\n",
       "      <td>0.791026</td>\n",
       "      <td>0.234820</td>\n",
       "      <td>67.828697</td>\n",
       "      <td>746.748657</td>\n",
       "      <td>...</td>\n",
       "      <td>-52.031128</td>\n",
       "      <td>2.801257</td>\n",
       "      <td>-121.824821</td>\n",
       "      <td>6.968575</td>\n",
       "      <td>54.949524</td>\n",
       "      <td>270.471039</td>\n",
       "      <td>-505.251831</td>\n",
       "      <td>60.789223</td>\n",
       "      <td>17.933701</td>\n",
       "      <td>0.005525</td>\n",
       "    </tr>\n",
       "  </tbody>\n",
       "</table>\n",
       "<p>2 rows × 33 columns</p>\n",
       "</div>"
      ],
      "text/plain": [
       "          Ej1         Ej2        El1        El2     etaj1     etaj2     etal1  \\\n",
       "0  445.450439  681.225586  26.760035  45.736698  2.159561 -2.284282  0.156895   \n",
       "1  273.737152  519.859375  92.246094  77.770859  2.557865 -2.125509  0.791026   \n",
       "\n",
       "      etal2         met          mjj  ...       pxl2        pyj1        pyj2  \\\n",
       "0 -0.608026  137.415924  1096.166138  ... -13.270928  101.113670  -86.905807   \n",
       "1  0.234820   67.828697   746.748657  ... -52.031128    2.801257 -121.824821   \n",
       "\n",
       "        pyl1       pyl2        pzj1        pzj2       pzl1       pzl2  \\\n",
       "0  24.602694 -36.049252  433.746918 -667.238220   4.164406 -24.822960   \n",
       "1   6.968575  54.949524  270.471039 -505.251831  60.789223  17.933701   \n",
       "\n",
       "          w  \n",
       "0  0.005525  \n",
       "1  0.005525  \n",
       "\n",
       "[2 rows x 33 columns]"
      ]
     },
     "execution_count": 5,
     "metadata": {},
     "output_type": "execute_result"
    }
   ],
   "source": [
    "dfSM = ROOT.RDataFrame(\"SSWW_SM\",ntuple_location+\"ntuple_SSWW_SM.root\")\n",
    "dfSM = dfSM.Filter(kinematicFilter)\n",
    "dfBSM = ROOT.RDataFrame(\"SSWW_cW_QU\",ntuple_location+\"ntuple_SSWW_cW_QU.root\")\n",
    "dfBSM = dfBSM.Filter(kinematicFilter)\n",
    "np_SM = dfSM.AsNumpy()\n",
    "wSM = dfSM.AsNumpy([\"w\"])\n",
    "npd = pd.DataFrame.from_dict(np_SM)\n",
    "pdf_summary(npd)"
   ]
  },
  {
   "cell_type": "code",
   "execution_count": 6,
   "metadata": {},
   "outputs": [
    {
     "name": "stdout",
     "output_type": "stream",
     "text": [
      "Pandas DataFrame shape is: (895962, 28)\n"
     ]
    },
    {
     "data": {
      "text/html": [
       "<div>\n",
       "<style scoped>\n",
       "    .dataframe tbody tr th:only-of-type {\n",
       "        vertical-align: middle;\n",
       "    }\n",
       "\n",
       "    .dataframe tbody tr th {\n",
       "        vertical-align: top;\n",
       "    }\n",
       "\n",
       "    .dataframe thead th {\n",
       "        text-align: right;\n",
       "    }\n",
       "</style>\n",
       "<table border=\"1\" class=\"dataframe\">\n",
       "  <thead>\n",
       "    <tr style=\"text-align: right;\">\n",
       "      <th></th>\n",
       "      <th>Ej1</th>\n",
       "      <th>Ej2</th>\n",
       "      <th>El1</th>\n",
       "      <th>El2</th>\n",
       "      <th>etaj1</th>\n",
       "      <th>etaj2</th>\n",
       "      <th>etal1</th>\n",
       "      <th>etal2</th>\n",
       "      <th>met</th>\n",
       "      <th>mjj</th>\n",
       "      <th>...</th>\n",
       "      <th>pxl1</th>\n",
       "      <th>pxl2</th>\n",
       "      <th>pyj1</th>\n",
       "      <th>pyj2</th>\n",
       "      <th>pyl1</th>\n",
       "      <th>pyl2</th>\n",
       "      <th>pzj1</th>\n",
       "      <th>pzj2</th>\n",
       "      <th>pzl1</th>\n",
       "      <th>pzl2</th>\n",
       "    </tr>\n",
       "  </thead>\n",
       "  <tbody>\n",
       "    <tr>\n",
       "      <th>0</th>\n",
       "      <td>445.450439</td>\n",
       "      <td>681.225586</td>\n",
       "      <td>26.760035</td>\n",
       "      <td>45.736698</td>\n",
       "      <td>2.159561</td>\n",
       "      <td>-2.284282</td>\n",
       "      <td>0.156895</td>\n",
       "      <td>-0.608026</td>\n",
       "      <td>137.415924</td>\n",
       "      <td>1096.166138</td>\n",
       "      <td>...</td>\n",
       "      <td>-9.667711</td>\n",
       "      <td>-13.270928</td>\n",
       "      <td>101.113670</td>\n",
       "      <td>-86.905807</td>\n",
       "      <td>24.602694</td>\n",
       "      <td>-36.049252</td>\n",
       "      <td>433.746918</td>\n",
       "      <td>-667.238220</td>\n",
       "      <td>4.164406</td>\n",
       "      <td>-24.822960</td>\n",
       "    </tr>\n",
       "    <tr>\n",
       "      <th>1</th>\n",
       "      <td>273.737152</td>\n",
       "      <td>519.859375</td>\n",
       "      <td>92.246094</td>\n",
       "      <td>77.770859</td>\n",
       "      <td>2.557865</td>\n",
       "      <td>-2.125509</td>\n",
       "      <td>0.791026</td>\n",
       "      <td>0.234820</td>\n",
       "      <td>67.828697</td>\n",
       "      <td>746.748657</td>\n",
       "      <td>...</td>\n",
       "      <td>69.032249</td>\n",
       "      <td>-52.031128</td>\n",
       "      <td>2.801257</td>\n",
       "      <td>-121.824821</td>\n",
       "      <td>6.968575</td>\n",
       "      <td>54.949524</td>\n",
       "      <td>270.471039</td>\n",
       "      <td>-505.251831</td>\n",
       "      <td>60.789223</td>\n",
       "      <td>17.933701</td>\n",
       "    </tr>\n",
       "  </tbody>\n",
       "</table>\n",
       "<p>2 rows × 28 columns</p>\n",
       "</div>"
      ],
      "text/plain": [
       "          Ej1         Ej2        El1        El2     etaj1     etaj2     etal1  \\\n",
       "0  445.450439  681.225586  26.760035  45.736698  2.159561 -2.284282  0.156895   \n",
       "1  273.737152  519.859375  92.246094  77.770859  2.557865 -2.125509  0.791026   \n",
       "\n",
       "      etal2         met          mjj  ...       pxl1       pxl2        pyj1  \\\n",
       "0 -0.608026  137.415924  1096.166138  ...  -9.667711 -13.270928  101.113670   \n",
       "1  0.234820   67.828697   746.748657  ...  69.032249 -52.031128    2.801257   \n",
       "\n",
       "         pyj2       pyl1       pyl2        pzj1        pzj2       pzl1  \\\n",
       "0  -86.905807  24.602694 -36.049252  433.746918 -667.238220   4.164406   \n",
       "1 -121.824821   6.968575  54.949524  270.471039 -505.251831  60.789223   \n",
       "\n",
       "        pzl2  \n",
       "0 -24.822960  \n",
       "1  17.933701  \n",
       "\n",
       "[2 rows x 28 columns]"
      ]
     },
     "execution_count": 6,
     "metadata": {},
     "output_type": "execute_result"
    }
   ],
   "source": [
    "npd.drop(['w','phil1','phil2',\"phij1\",\"phij2\"],axis='columns', inplace=True)\n",
    "pdf_summary(npd)"
   ]
  },
  {
   "cell_type": "code",
   "execution_count": 7,
   "metadata": {},
   "outputs": [
    {
     "name": "stdout",
     "output_type": "stream",
     "text": [
      "Pandas DataFrame shape is: (895962, 1)\n"
     ]
    },
    {
     "data": {
      "text/html": [
       "<div>\n",
       "<style scoped>\n",
       "    .dataframe tbody tr th:only-of-type {\n",
       "        vertical-align: middle;\n",
       "    }\n",
       "\n",
       "    .dataframe tbody tr th {\n",
       "        vertical-align: top;\n",
       "    }\n",
       "\n",
       "    .dataframe thead th {\n",
       "        text-align: right;\n",
       "    }\n",
       "</style>\n",
       "<table border=\"1\" class=\"dataframe\">\n",
       "  <thead>\n",
       "    <tr style=\"text-align: right;\">\n",
       "      <th></th>\n",
       "      <th>w</th>\n",
       "    </tr>\n",
       "  </thead>\n",
       "  <tbody>\n",
       "    <tr>\n",
       "      <th>0</th>\n",
       "      <td>0.005578</td>\n",
       "    </tr>\n",
       "    <tr>\n",
       "      <th>1</th>\n",
       "      <td>0.005578</td>\n",
       "    </tr>\n",
       "  </tbody>\n",
       "</table>\n",
       "</div>"
      ],
      "text/plain": [
       "          w\n",
       "0  0.005578\n",
       "1  0.005578"
      ]
     },
     "execution_count": 7,
     "metadata": {},
     "output_type": "execute_result"
    }
   ],
   "source": [
    "wpdSM = pd.DataFrame.from_dict(wSM)\n",
    "pdf_summary(wpdSM)"
   ]
  },
  {
   "cell_type": "code",
   "execution_count": 8,
   "metadata": {},
   "outputs": [
    {
     "name": "stdout",
     "output_type": "stream",
     "text": [
      "Pandas DataFrame shape is: (654461, 33)\n"
     ]
    },
    {
     "data": {
      "text/html": [
       "<div>\n",
       "<style scoped>\n",
       "    .dataframe tbody tr th:only-of-type {\n",
       "        vertical-align: middle;\n",
       "    }\n",
       "\n",
       "    .dataframe tbody tr th {\n",
       "        vertical-align: top;\n",
       "    }\n",
       "\n",
       "    .dataframe thead th {\n",
       "        text-align: right;\n",
       "    }\n",
       "</style>\n",
       "<table border=\"1\" class=\"dataframe\">\n",
       "  <thead>\n",
       "    <tr style=\"text-align: right;\">\n",
       "      <th></th>\n",
       "      <th>Ej1</th>\n",
       "      <th>Ej2</th>\n",
       "      <th>El1</th>\n",
       "      <th>El2</th>\n",
       "      <th>etaj1</th>\n",
       "      <th>etaj2</th>\n",
       "      <th>etal1</th>\n",
       "      <th>etal2</th>\n",
       "      <th>met</th>\n",
       "      <th>mjj</th>\n",
       "      <th>...</th>\n",
       "      <th>pxl2</th>\n",
       "      <th>pyj1</th>\n",
       "      <th>pyj2</th>\n",
       "      <th>pyl1</th>\n",
       "      <th>pyl2</th>\n",
       "      <th>pzj1</th>\n",
       "      <th>pzj2</th>\n",
       "      <th>pzl1</th>\n",
       "      <th>pzl2</th>\n",
       "      <th>w</th>\n",
       "    </tr>\n",
       "  </thead>\n",
       "  <tbody>\n",
       "    <tr>\n",
       "      <th>0</th>\n",
       "      <td>1437.561401</td>\n",
       "      <td>369.186005</td>\n",
       "      <td>81.154251</td>\n",
       "      <td>255.090240</td>\n",
       "      <td>-2.669397</td>\n",
       "      <td>0.947132</td>\n",
       "      <td>-0.007497</td>\n",
       "      <td>-0.156408</td>\n",
       "      <td>275.766937</td>\n",
       "      <td>1318.894775</td>\n",
       "      <td>...</td>\n",
       "      <td>-31.596426</td>\n",
       "      <td>-196.244446</td>\n",
       "      <td>-242.383484</td>\n",
       "      <td>-81.037727</td>\n",
       "      <td>250.012878</td>\n",
       "      <td>-1423.822021</td>\n",
       "      <td>272.637115</td>\n",
       "      <td>-0.608431</td>\n",
       "      <td>-39.576004</td>\n",
       "      <td>0.003945</td>\n",
       "    </tr>\n",
       "    <tr>\n",
       "      <th>1</th>\n",
       "      <td>924.120300</td>\n",
       "      <td>857.094849</td>\n",
       "      <td>434.595459</td>\n",
       "      <td>237.041153</td>\n",
       "      <td>3.233342</td>\n",
       "      <td>-0.894999</td>\n",
       "      <td>-1.791740</td>\n",
       "      <td>0.583695</td>\n",
       "      <td>399.751892</td>\n",
       "      <td>1621.437866</td>\n",
       "      <td>...</td>\n",
       "      <td>-20.442757</td>\n",
       "      <td>62.290062</td>\n",
       "      <td>381.651031</td>\n",
       "      <td>-43.835690</td>\n",
       "      <td>-200.657013</td>\n",
       "      <td>921.251892</td>\n",
       "      <td>-611.840820</td>\n",
       "      <td>-411.102936</td>\n",
       "      <td>124.528580</td>\n",
       "      <td>0.003945</td>\n",
       "    </tr>\n",
       "  </tbody>\n",
       "</table>\n",
       "<p>2 rows × 33 columns</p>\n",
       "</div>"
      ],
      "text/plain": [
       "           Ej1         Ej2         El1         El2     etaj1     etaj2  \\\n",
       "0  1437.561401  369.186005   81.154251  255.090240 -2.669397  0.947132   \n",
       "1   924.120300  857.094849  434.595459  237.041153  3.233342 -0.894999   \n",
       "\n",
       "      etal1     etal2         met          mjj  ...       pxl2        pyj1  \\\n",
       "0 -0.007497 -0.156408  275.766937  1318.894775  ... -31.596426 -196.244446   \n",
       "1 -1.791740  0.583695  399.751892  1621.437866  ... -20.442757   62.290062   \n",
       "\n",
       "         pyj2       pyl1        pyl2         pzj1        pzj2        pzl1  \\\n",
       "0 -242.383484 -81.037727  250.012878 -1423.822021  272.637115   -0.608431   \n",
       "1  381.651031 -43.835690 -200.657013   921.251892 -611.840820 -411.102936   \n",
       "\n",
       "         pzl2         w  \n",
       "0  -39.576004  0.003945  \n",
       "1  124.528580  0.003945  \n",
       "\n",
       "[2 rows x 33 columns]"
      ]
     },
     "execution_count": 8,
     "metadata": {},
     "output_type": "execute_result"
    }
   ],
   "source": [
    "# Take all columns og dfBSM because of using RDateFrame.AsNumpy() without any filter\n",
    "np_BSM = dfBSM.AsNumpy()\n",
    "wBSM = dfBSM.AsNumpy([\"w\"])\n",
    "npd_BSM = pd.DataFrame.from_dict(np_BSM)\n",
    "pdf_summary(npd_BSM)"
   ]
  },
  {
   "cell_type": "code",
   "execution_count": 9,
   "metadata": {},
   "outputs": [
    {
     "name": "stdout",
     "output_type": "stream",
     "text": [
      "Pandas DataFrame shape is: (654461, 1)\n"
     ]
    },
    {
     "data": {
      "text/html": [
       "<div>\n",
       "<style scoped>\n",
       "    .dataframe tbody tr th:only-of-type {\n",
       "        vertical-align: middle;\n",
       "    }\n",
       "\n",
       "    .dataframe tbody tr th {\n",
       "        vertical-align: top;\n",
       "    }\n",
       "\n",
       "    .dataframe thead th {\n",
       "        text-align: right;\n",
       "    }\n",
       "</style>\n",
       "<table border=\"1\" class=\"dataframe\">\n",
       "  <thead>\n",
       "    <tr style=\"text-align: right;\">\n",
       "      <th></th>\n",
       "      <th>w</th>\n",
       "    </tr>\n",
       "  </thead>\n",
       "  <tbody>\n",
       "    <tr>\n",
       "      <th>0</th>\n",
       "      <td>0.003932</td>\n",
       "    </tr>\n",
       "    <tr>\n",
       "      <th>1</th>\n",
       "      <td>0.003932</td>\n",
       "    </tr>\n",
       "  </tbody>\n",
       "</table>\n",
       "</div>"
      ],
      "text/plain": [
       "          w\n",
       "0  0.003932\n",
       "1  0.003932"
      ]
     },
     "execution_count": 9,
     "metadata": {},
     "output_type": "execute_result"
    }
   ],
   "source": [
    "npd_BSM.drop(['w','phil1','phil2',\"phij1\",\"phij2\"],axis='columns', inplace=True)\n",
    "wpdBSM = pd.DataFrame.from_dict(wBSM)\n",
    "pdf_summary(wpdBSM)"
   ]
  },
  {
   "cell_type": "code",
   "execution_count": 10,
   "metadata": {},
   "outputs": [],
   "source": [
    "nEntries = 3000000\n",
    "npd = npd.head(nEntries)\n",
    "npd_BSM = npd_BSM.head(nEntries)\n",
    "wpdSM = wpdSM.head(nEntries)\n",
    "wpdBSM = wpdBSM.head(nEntries)"
   ]
  },
  {
   "cell_type": "code",
   "execution_count": 11,
   "metadata": {},
   "outputs": [
    {
     "name": "stdout",
     "output_type": "stream",
     "text": [
      "Pandas DataFrame shape is: (895962, 28)\n"
     ]
    },
    {
     "data": {
      "text/html": [
       "<div>\n",
       "<style scoped>\n",
       "    .dataframe tbody tr th:only-of-type {\n",
       "        vertical-align: middle;\n",
       "    }\n",
       "\n",
       "    .dataframe tbody tr th {\n",
       "        vertical-align: top;\n",
       "    }\n",
       "\n",
       "    .dataframe thead th {\n",
       "        text-align: right;\n",
       "    }\n",
       "</style>\n",
       "<table border=\"1\" class=\"dataframe\">\n",
       "  <thead>\n",
       "    <tr style=\"text-align: right;\">\n",
       "      <th></th>\n",
       "      <th>Ej1</th>\n",
       "      <th>Ej2</th>\n",
       "      <th>El1</th>\n",
       "      <th>El2</th>\n",
       "      <th>etaj1</th>\n",
       "      <th>etaj2</th>\n",
       "      <th>etal1</th>\n",
       "      <th>etal2</th>\n",
       "      <th>met</th>\n",
       "      <th>mjj</th>\n",
       "      <th>...</th>\n",
       "      <th>pxl1</th>\n",
       "      <th>pxl2</th>\n",
       "      <th>pyj1</th>\n",
       "      <th>pyj2</th>\n",
       "      <th>pyl1</th>\n",
       "      <th>pyl2</th>\n",
       "      <th>pzj1</th>\n",
       "      <th>pzj2</th>\n",
       "      <th>pzl1</th>\n",
       "      <th>pzl2</th>\n",
       "    </tr>\n",
       "  </thead>\n",
       "  <tbody>\n",
       "    <tr>\n",
       "      <th>0</th>\n",
       "      <td>2.648799</td>\n",
       "      <td>2.833291</td>\n",
       "      <td>1.427487</td>\n",
       "      <td>1.660265</td>\n",
       "      <td>2.159561</td>\n",
       "      <td>-2.284282</td>\n",
       "      <td>0.156895</td>\n",
       "      <td>-0.608026</td>\n",
       "      <td>2.138037</td>\n",
       "      <td>3.039876</td>\n",
       "      <td>...</td>\n",
       "      <td>-9.667711</td>\n",
       "      <td>-13.270928</td>\n",
       "      <td>101.113670</td>\n",
       "      <td>-86.905807</td>\n",
       "      <td>24.602694</td>\n",
       "      <td>-36.049252</td>\n",
       "      <td>433.746918</td>\n",
       "      <td>-667.238220</td>\n",
       "      <td>4.164406</td>\n",
       "      <td>-24.822960</td>\n",
       "    </tr>\n",
       "    <tr>\n",
       "      <th>1</th>\n",
       "      <td>2.437334</td>\n",
       "      <td>2.715886</td>\n",
       "      <td>1.964948</td>\n",
       "      <td>1.890817</td>\n",
       "      <td>2.557865</td>\n",
       "      <td>-2.125509</td>\n",
       "      <td>0.791026</td>\n",
       "      <td>0.234820</td>\n",
       "      <td>1.831414</td>\n",
       "      <td>2.873174</td>\n",
       "      <td>...</td>\n",
       "      <td>69.032249</td>\n",
       "      <td>-52.031128</td>\n",
       "      <td>2.801257</td>\n",
       "      <td>-121.824821</td>\n",
       "      <td>6.968575</td>\n",
       "      <td>54.949524</td>\n",
       "      <td>270.471039</td>\n",
       "      <td>-505.251831</td>\n",
       "      <td>60.789223</td>\n",
       "      <td>17.933701</td>\n",
       "    </tr>\n",
       "  </tbody>\n",
       "</table>\n",
       "<p>2 rows × 28 columns</p>\n",
       "</div>"
      ],
      "text/plain": [
       "        Ej1       Ej2       El1       El2     etaj1     etaj2     etal1  \\\n",
       "0  2.648799  2.833291  1.427487  1.660265  2.159561 -2.284282  0.156895   \n",
       "1  2.437334  2.715886  1.964948  1.890817  2.557865 -2.125509  0.791026   \n",
       "\n",
       "      etal2       met       mjj  ...       pxl1       pxl2        pyj1  \\\n",
       "0 -0.608026  2.138037  3.039876  ...  -9.667711 -13.270928  101.113670   \n",
       "1  0.234820  1.831414  2.873174  ...  69.032249 -52.031128    2.801257   \n",
       "\n",
       "         pyj2       pyl1       pyl2        pzj1        pzj2       pzl1  \\\n",
       "0  -86.905807  24.602694 -36.049252  433.746918 -667.238220   4.164406   \n",
       "1 -121.824821   6.968575  54.949524  270.471039 -505.251831  60.789223   \n",
       "\n",
       "        pzl2  \n",
       "0 -24.822960  \n",
       "1  17.933701  \n",
       "\n",
       "[2 rows x 28 columns]"
      ]
     },
     "execution_count": 11,
     "metadata": {},
     "output_type": "execute_result"
    }
   ],
   "source": [
    "# #to be done for all the pt and mass and met variables\n",
    "for var in ['met', 'mjj', 'mll', 'ptj1', 'ptj2', 'ptl1',\n",
    "            'ptl2', 'ptll',\"Ej1\",\"Ej2\",\"El1\",\"El2\"]:\n",
    "   npd[var] = np.log10(npd[var])\n",
    "   npd_BSM[var] = np.log10(npd_BSM[var])\n",
    "pdf_summary(npd)"
   ]
  },
  {
   "cell_type": "markdown",
   "metadata": {},
   "source": [
    "### Combining SM and BSM data"
   ]
  },
  {
   "cell_type": "code",
   "execution_count": 12,
   "metadata": {},
   "outputs": [],
   "source": [
    "Y_true_SM = np.full(npd.shape[0],0)\n",
    "Y_true_BSM = np.full(npd_BSM.shape[0],1)\n",
    "labels_arr = np.concatenate((Y_true_SM,Y_true_BSM))"
   ]
  },
  {
   "cell_type": "code",
   "execution_count": 13,
   "metadata": {},
   "outputs": [
    {
     "name": "stdout",
     "output_type": "stream",
     "text": [
      "Pandas DataFrame shape is: (1550423, 28)\n"
     ]
    },
    {
     "data": {
      "text/html": [
       "<div>\n",
       "<style scoped>\n",
       "    .dataframe tbody tr th:only-of-type {\n",
       "        vertical-align: middle;\n",
       "    }\n",
       "\n",
       "    .dataframe tbody tr th {\n",
       "        vertical-align: top;\n",
       "    }\n",
       "\n",
       "    .dataframe thead th {\n",
       "        text-align: right;\n",
       "    }\n",
       "</style>\n",
       "<table border=\"1\" class=\"dataframe\">\n",
       "  <thead>\n",
       "    <tr style=\"text-align: right;\">\n",
       "      <th></th>\n",
       "      <th>Ej1</th>\n",
       "      <th>Ej2</th>\n",
       "      <th>El1</th>\n",
       "      <th>El2</th>\n",
       "      <th>etaj1</th>\n",
       "      <th>etaj2</th>\n",
       "      <th>etal1</th>\n",
       "      <th>etal2</th>\n",
       "      <th>met</th>\n",
       "      <th>mjj</th>\n",
       "      <th>...</th>\n",
       "      <th>pxl1</th>\n",
       "      <th>pxl2</th>\n",
       "      <th>pyj1</th>\n",
       "      <th>pyj2</th>\n",
       "      <th>pyl1</th>\n",
       "      <th>pyl2</th>\n",
       "      <th>pzj1</th>\n",
       "      <th>pzj2</th>\n",
       "      <th>pzl1</th>\n",
       "      <th>pzl2</th>\n",
       "    </tr>\n",
       "  </thead>\n",
       "  <tbody>\n",
       "    <tr>\n",
       "      <th>0</th>\n",
       "      <td>2.648799</td>\n",
       "      <td>2.833291</td>\n",
       "      <td>1.427487</td>\n",
       "      <td>1.660265</td>\n",
       "      <td>2.159561</td>\n",
       "      <td>-2.284282</td>\n",
       "      <td>0.156895</td>\n",
       "      <td>-0.608026</td>\n",
       "      <td>2.138037</td>\n",
       "      <td>3.039876</td>\n",
       "      <td>...</td>\n",
       "      <td>-9.667711</td>\n",
       "      <td>-13.270928</td>\n",
       "      <td>101.113670</td>\n",
       "      <td>-86.905807</td>\n",
       "      <td>24.602694</td>\n",
       "      <td>-36.049252</td>\n",
       "      <td>433.746918</td>\n",
       "      <td>-667.238220</td>\n",
       "      <td>4.164406</td>\n",
       "      <td>-24.822960</td>\n",
       "    </tr>\n",
       "    <tr>\n",
       "      <th>1</th>\n",
       "      <td>2.437334</td>\n",
       "      <td>2.715886</td>\n",
       "      <td>1.964948</td>\n",
       "      <td>1.890817</td>\n",
       "      <td>2.557865</td>\n",
       "      <td>-2.125509</td>\n",
       "      <td>0.791026</td>\n",
       "      <td>0.234820</td>\n",
       "      <td>1.831414</td>\n",
       "      <td>2.873174</td>\n",
       "      <td>...</td>\n",
       "      <td>69.032249</td>\n",
       "      <td>-52.031128</td>\n",
       "      <td>2.801257</td>\n",
       "      <td>-121.824821</td>\n",
       "      <td>6.968575</td>\n",
       "      <td>54.949524</td>\n",
       "      <td>270.471039</td>\n",
       "      <td>-505.251831</td>\n",
       "      <td>60.789223</td>\n",
       "      <td>17.933701</td>\n",
       "    </tr>\n",
       "  </tbody>\n",
       "</table>\n",
       "<p>2 rows × 28 columns</p>\n",
       "</div>"
      ],
      "text/plain": [
       "        Ej1       Ej2       El1       El2     etaj1     etaj2     etal1  \\\n",
       "0  2.648799  2.833291  1.427487  1.660265  2.159561 -2.284282  0.156895   \n",
       "1  2.437334  2.715886  1.964948  1.890817  2.557865 -2.125509  0.791026   \n",
       "\n",
       "      etal2       met       mjj  ...       pxl1       pxl2        pyj1  \\\n",
       "0 -0.608026  2.138037  3.039876  ...  -9.667711 -13.270928  101.113670   \n",
       "1  0.234820  1.831414  2.873174  ...  69.032249 -52.031128    2.801257   \n",
       "\n",
       "         pyj2       pyl1       pyl2        pzj1        pzj2       pzl1  \\\n",
       "0  -86.905807  24.602694 -36.049252  433.746918 -667.238220   4.164406   \n",
       "1 -121.824821   6.968575  54.949524  270.471039 -505.251831  60.789223   \n",
       "\n",
       "        pzl2  \n",
       "0 -24.822960  \n",
       "1  17.933701  \n",
       "\n",
       "[2 rows x 28 columns]"
      ]
     },
     "execution_count": 13,
     "metadata": {},
     "output_type": "execute_result"
    }
   ],
   "source": [
    "samples_df = pd.concat([npd,npd_BSM])\n",
    "pdf_summary(samples_df)"
   ]
  },
  {
   "cell_type": "code",
   "execution_count": 14,
   "metadata": {},
   "outputs": [
    {
     "name": "stdout",
     "output_type": "stream",
     "text": [
      "Pandas DataFrame shape is: (1550423, 29)\n"
     ]
    },
    {
     "data": {
      "text/html": [
       "<div>\n",
       "<style scoped>\n",
       "    .dataframe tbody tr th:only-of-type {\n",
       "        vertical-align: middle;\n",
       "    }\n",
       "\n",
       "    .dataframe tbody tr th {\n",
       "        vertical-align: top;\n",
       "    }\n",
       "\n",
       "    .dataframe thead th {\n",
       "        text-align: right;\n",
       "    }\n",
       "</style>\n",
       "<table border=\"1\" class=\"dataframe\">\n",
       "  <thead>\n",
       "    <tr style=\"text-align: right;\">\n",
       "      <th></th>\n",
       "      <th>Ej1</th>\n",
       "      <th>Ej2</th>\n",
       "      <th>El1</th>\n",
       "      <th>El2</th>\n",
       "      <th>etaj1</th>\n",
       "      <th>etaj2</th>\n",
       "      <th>etal1</th>\n",
       "      <th>etal2</th>\n",
       "      <th>met</th>\n",
       "      <th>mjj</th>\n",
       "      <th>...</th>\n",
       "      <th>pxl2</th>\n",
       "      <th>pyj1</th>\n",
       "      <th>pyj2</th>\n",
       "      <th>pyl1</th>\n",
       "      <th>pyl2</th>\n",
       "      <th>pzj1</th>\n",
       "      <th>pzj2</th>\n",
       "      <th>pzl1</th>\n",
       "      <th>pzl2</th>\n",
       "      <th>labels</th>\n",
       "    </tr>\n",
       "  </thead>\n",
       "  <tbody>\n",
       "    <tr>\n",
       "      <th>0</th>\n",
       "      <td>2.648799</td>\n",
       "      <td>2.833291</td>\n",
       "      <td>1.427487</td>\n",
       "      <td>1.660265</td>\n",
       "      <td>2.159561</td>\n",
       "      <td>-2.284282</td>\n",
       "      <td>0.156895</td>\n",
       "      <td>-0.608026</td>\n",
       "      <td>2.138037</td>\n",
       "      <td>3.039876</td>\n",
       "      <td>...</td>\n",
       "      <td>-13.270928</td>\n",
       "      <td>101.113670</td>\n",
       "      <td>-86.905807</td>\n",
       "      <td>24.602694</td>\n",
       "      <td>-36.049252</td>\n",
       "      <td>433.746918</td>\n",
       "      <td>-667.238220</td>\n",
       "      <td>4.164406</td>\n",
       "      <td>-24.822960</td>\n",
       "      <td>0</td>\n",
       "    </tr>\n",
       "    <tr>\n",
       "      <th>1</th>\n",
       "      <td>2.437334</td>\n",
       "      <td>2.715886</td>\n",
       "      <td>1.964948</td>\n",
       "      <td>1.890817</td>\n",
       "      <td>2.557865</td>\n",
       "      <td>-2.125509</td>\n",
       "      <td>0.791026</td>\n",
       "      <td>0.234820</td>\n",
       "      <td>1.831414</td>\n",
       "      <td>2.873174</td>\n",
       "      <td>...</td>\n",
       "      <td>-52.031128</td>\n",
       "      <td>2.801257</td>\n",
       "      <td>-121.824821</td>\n",
       "      <td>6.968575</td>\n",
       "      <td>54.949524</td>\n",
       "      <td>270.471039</td>\n",
       "      <td>-505.251831</td>\n",
       "      <td>60.789223</td>\n",
       "      <td>17.933701</td>\n",
       "      <td>0</td>\n",
       "    </tr>\n",
       "  </tbody>\n",
       "</table>\n",
       "<p>2 rows × 29 columns</p>\n",
       "</div>"
      ],
      "text/plain": [
       "        Ej1       Ej2       El1       El2     etaj1     etaj2     etal1  \\\n",
       "0  2.648799  2.833291  1.427487  1.660265  2.159561 -2.284282  0.156895   \n",
       "1  2.437334  2.715886  1.964948  1.890817  2.557865 -2.125509  0.791026   \n",
       "\n",
       "      etal2       met       mjj  ...       pxl2        pyj1        pyj2  \\\n",
       "0 -0.608026  2.138037  3.039876  ... -13.270928  101.113670  -86.905807   \n",
       "1  0.234820  1.831414  2.873174  ... -52.031128    2.801257 -121.824821   \n",
       "\n",
       "        pyl1       pyl2        pzj1        pzj2       pzl1       pzl2  labels  \n",
       "0  24.602694 -36.049252  433.746918 -667.238220   4.164406 -24.822960       0  \n",
       "1   6.968575  54.949524  270.471039 -505.251831  60.789223  17.933701       0  \n",
       "\n",
       "[2 rows x 29 columns]"
      ]
     },
     "execution_count": 14,
     "metadata": {},
     "output_type": "execute_result"
    }
   ],
   "source": [
    "samples_df['labels'] = labels_arr\n",
    "pdf_summary(samples_df)"
   ]
  },
  {
   "cell_type": "code",
   "execution_count": 15,
   "metadata": {},
   "outputs": [
    {
     "name": "stdout",
     "output_type": "stream",
     "text": [
      "Pandas DataFrame shape is: (1550423, 29)\n"
     ]
    },
    {
     "data": {
      "text/html": [
       "<div>\n",
       "<style scoped>\n",
       "    .dataframe tbody tr th:only-of-type {\n",
       "        vertical-align: middle;\n",
       "    }\n",
       "\n",
       "    .dataframe tbody tr th {\n",
       "        vertical-align: top;\n",
       "    }\n",
       "\n",
       "    .dataframe thead th {\n",
       "        text-align: right;\n",
       "    }\n",
       "</style>\n",
       "<table border=\"1\" class=\"dataframe\">\n",
       "  <thead>\n",
       "    <tr style=\"text-align: right;\">\n",
       "      <th></th>\n",
       "      <th>Ej1</th>\n",
       "      <th>Ej2</th>\n",
       "      <th>El1</th>\n",
       "      <th>El2</th>\n",
       "      <th>etaj1</th>\n",
       "      <th>etaj2</th>\n",
       "      <th>etal1</th>\n",
       "      <th>etal2</th>\n",
       "      <th>met</th>\n",
       "      <th>mjj</th>\n",
       "      <th>...</th>\n",
       "      <th>pxl2</th>\n",
       "      <th>pyj1</th>\n",
       "      <th>pyj2</th>\n",
       "      <th>pyl1</th>\n",
       "      <th>pyl2</th>\n",
       "      <th>pzj1</th>\n",
       "      <th>pzj2</th>\n",
       "      <th>pzl1</th>\n",
       "      <th>pzl2</th>\n",
       "      <th>labels</th>\n",
       "    </tr>\n",
       "  </thead>\n",
       "  <tbody>\n",
       "    <tr>\n",
       "      <th>489881</th>\n",
       "      <td>3.142395</td>\n",
       "      <td>2.923045</td>\n",
       "      <td>2.125430</td>\n",
       "      <td>2.160322</td>\n",
       "      <td>3.248510</td>\n",
       "      <td>-1.805696</td>\n",
       "      <td>1.222235</td>\n",
       "      <td>0.495425</td>\n",
       "      <td>1.758880</td>\n",
       "      <td>3.330392</td>\n",
       "      <td>...</td>\n",
       "      <td>63.375935</td>\n",
       "      <td>-103.373917</td>\n",
       "      <td>252.190933</td>\n",
       "      <td>-19.610296</td>\n",
       "      <td>-111.841782</td>\n",
       "      <td>1383.839233</td>\n",
       "      <td>-793.552002</td>\n",
       "      <td>112.168427</td>\n",
       "      <td>66.324249</td>\n",
       "      <td>0</td>\n",
       "    </tr>\n",
       "    <tr>\n",
       "      <th>610378</th>\n",
       "      <td>3.252018</td>\n",
       "      <td>2.965763</td>\n",
       "      <td>1.912423</td>\n",
       "      <td>2.104666</td>\n",
       "      <td>-3.249679</td>\n",
       "      <td>1.036916</td>\n",
       "      <td>0.259203</td>\n",
       "      <td>0.250011</td>\n",
       "      <td>2.801762</td>\n",
       "      <td>3.378083</td>\n",
       "      <td>...</td>\n",
       "      <td>-73.585243</td>\n",
       "      <td>-102.120834</td>\n",
       "      <td>-311.647156</td>\n",
       "      <td>-77.773781</td>\n",
       "      <td>99.030037</td>\n",
       "      <td>-1781.195923</td>\n",
       "      <td>717.791199</td>\n",
       "      <td>20.724606</td>\n",
       "      <td>31.167820</td>\n",
       "      <td>1</td>\n",
       "    </tr>\n",
       "  </tbody>\n",
       "</table>\n",
       "<p>2 rows × 29 columns</p>\n",
       "</div>"
      ],
      "text/plain": [
       "             Ej1       Ej2       El1       El2     etaj1     etaj2     etal1  \\\n",
       "489881  3.142395  2.923045  2.125430  2.160322  3.248510 -1.805696  1.222235   \n",
       "610378  3.252018  2.965763  1.912423  2.104666 -3.249679  1.036916  0.259203   \n",
       "\n",
       "           etal2       met       mjj  ...       pxl2        pyj1        pyj2  \\\n",
       "489881  0.495425  1.758880  3.330392  ...  63.375935 -103.373917  252.190933   \n",
       "610378  0.250011  2.801762  3.378083  ... -73.585243 -102.120834 -311.647156   \n",
       "\n",
       "             pyl1        pyl2         pzj1        pzj2        pzl1       pzl2  \\\n",
       "489881 -19.610296 -111.841782  1383.839233 -793.552002  112.168427  66.324249   \n",
       "610378 -77.773781   99.030037 -1781.195923  717.791199   20.724606  31.167820   \n",
       "\n",
       "        labels  \n",
       "489881       0  \n",
       "610378       1  \n",
       "\n",
       "[2 rows x 29 columns]"
      ]
     },
     "execution_count": 15,
     "metadata": {},
     "output_type": "execute_result"
    }
   ],
   "source": [
    "samples_df = samples_df.sample(frac=1)\n",
    "pdf_summary(samples_df)"
   ]
  },
  {
   "cell_type": "code",
   "execution_count": 16,
   "metadata": {},
   "outputs": [],
   "source": [
    "shuffled_labels_df = samples_df['labels']"
   ]
  },
  {
   "cell_type": "code",
   "execution_count": 17,
   "metadata": {},
   "outputs": [],
   "source": [
    "shuffled_samples_df = samples_df.drop(['labels'], axis='columns')"
   ]
  },
  {
   "cell_type": "code",
   "execution_count": 18,
   "metadata": {},
   "outputs": [],
   "source": [
    "X_train, X_rem, y_train, y_rem = train_test_split(shuffled_samples_df,\n",
    "                                                  shuffled_labels_df,\n",
    "                                                  train_size=0.8)\n",
    "X_valid, X_test, y_valid, y_test = train_test_split(X_rem,\n",
    "                                                    y_rem, \n",
    "                                                    test_size=0.5)\n",
    "SM_train,SM_test,_,_ = train_test_split(npd, npd, test_size=0.2, random_state=1)\n",
    "BSM_train,BSM_test,_,_ = train_test_split(npd_BSM, npd_BSM, test_size=0.2, random_state=1)\n",
    "#wx_train, wx_test, wy_train, wy_test = train_test_split(wpdSM, wpdSM, test_size=0.2, random_state=1)\n",
    "\n",
    "#BSM_train, BSM_test, y_BSM_train, y_BSM_test = train_test_split(npd_BSM, Y_true_BSM, test_size=0.2, random_state=1)\n",
    "#wBSM_train, wBSM_test, _ , _ = train_test_split(wpdBSM, wpdBSM, test_size=0.2, random_state=1)\n",
    "#print wx_train,X_train\n",
    "#wx = wx_train[\"w\"].to_numpy()\n",
    "#wxtest = wx_test[\"w\"].to_numpy()\n",
    "#wBSM = wBSM_train[\"w\"].to_numpy()\n",
    "#wBSMtest = wBSM_test[\"w\"].to_numpy()"
   ]
  },
  {
   "cell_type": "markdown",
   "metadata": {},
   "source": [
    "### scale data"
   ]
  },
  {
   "cell_type": "code",
   "execution_count": 19,
   "metadata": {},
   "outputs": [],
   "source": [
    "scaler = MinMaxScaler()\n",
    "#scaler = StandardScaler()\n",
    "scaler.fit(shuffled_samples_df)\n",
    "scaled_x_train = scaler.transform(X_train)\n",
    "scaled_x_valid = scaler.transform(X_valid)\n",
    "scaled_x_test = scaler.transform(X_test)"
   ]
  },
  {
   "cell_type": "code",
   "execution_count": 20,
   "metadata": {},
   "outputs": [],
   "source": [
    "n_inputs = npd.shape[1]\n",
    "original_dim = n_inputs\n",
    "\n",
    "intermediate_dim = 50 #50 by default\n",
    "input_dim = 10 #was 20 in default\n",
    "half_input = 7 #was 20 in the newTest\n",
    "latent_dim = 10 #tried 7 as well  #was 3 for optimal performance\n",
    "epochs = 20 #80\n",
    "batch_size=64 #32\n",
    "nameExtenstion = str(intermediate_dim) + \"_\" +\\\n",
    "                 str(input_dim) + \"_\" +\\\n",
    "                 str(half_input) + \"_\" +\\\n",
    "                 str(latent_dim) + \"_\" +\\\n",
    "                 str(epochs) + \"_\" +\\\n",
    "                 str(batch_size)\n"
   ]
  },
  {
   "cell_type": "code",
   "execution_count": 21,
   "metadata": {},
   "outputs": [
    {
     "name": "stdout",
     "output_type": "stream",
     "text": [
      "Epoch 1/20\n",
      "19381/19381 [==============================] - 165s 8ms/step - loss: 0.3939 - binary_accuracy: 0.8395 - val_loss: 0.3157 - val_binary_accuracy: 0.8865\n",
      "Epoch 2/20\n",
      "19381/19381 [==============================] - 164s 8ms/step - loss: 0.3094 - binary_accuracy: 0.8881 - val_loss: 0.3011 - val_binary_accuracy: 0.8912\n",
      "Epoch 3/20\n",
      "19381/19381 [==============================] - 169s 9ms/step - loss: 0.3017 - binary_accuracy: 0.8893 - val_loss: 0.3034 - val_binary_accuracy: 0.8892\n",
      "Epoch 4/20\n",
      "19381/19381 [==============================] - 152s 8ms/step - loss: 0.2981 - binary_accuracy: 0.8899 - val_loss: 0.2934 - val_binary_accuracy: 0.8924\n",
      "Epoch 5/20\n",
      "19381/19381 [==============================] - 154s 8ms/step - loss: 0.2957 - binary_accuracy: 0.8903 - val_loss: 0.2922 - val_binary_accuracy: 0.8922\n",
      "Epoch 6/20\n",
      "19381/19381 [==============================] - 156s 8ms/step - loss: 0.2942 - binary_accuracy: 0.8907 - val_loss: 0.2921 - val_binary_accuracy: 0.8913\n",
      "Epoch 7/20\n",
      "19381/19381 [==============================] - 157s 8ms/step - loss: 0.2931 - binary_accuracy: 0.8907 - val_loss: 0.2906 - val_binary_accuracy: 0.8924\n",
      "Epoch 8/20\n",
      "19381/19381 [==============================] - 163s 8ms/step - loss: 0.2919 - binary_accuracy: 0.8909 - val_loss: 0.2896 - val_binary_accuracy: 0.8923\n",
      "Epoch 9/20\n",
      "19381/19381 [==============================] - 161s 8ms/step - loss: 0.2910 - binary_accuracy: 0.8912 - val_loss: 0.2883 - val_binary_accuracy: 0.8928\n",
      "Epoch 10/20\n",
      "19381/19381 [==============================] - 157s 8ms/step - loss: 0.2901 - binary_accuracy: 0.8913 - val_loss: 0.2894 - val_binary_accuracy: 0.8919\n",
      "Epoch 11/20\n",
      "19381/19381 [==============================] - 159s 8ms/step - loss: 0.2891 - binary_accuracy: 0.8915 - val_loss: 0.2962 - val_binary_accuracy: 0.8886\n",
      "Epoch 12/20\n",
      "19381/19381 [==============================] - 159s 8ms/step - loss: 0.2881 - binary_accuracy: 0.8917 - val_loss: 0.2885 - val_binary_accuracy: 0.8913\n",
      "Epoch 13/20\n",
      "19381/19381 [==============================] - 156s 8ms/step - loss: 0.2874 - binary_accuracy: 0.8914 - val_loss: 0.2850 - val_binary_accuracy: 0.8929\n",
      "Epoch 14/20\n",
      "19381/19381 [==============================] - 155s 8ms/step - loss: 0.2867 - binary_accuracy: 0.8917 - val_loss: 0.2860 - val_binary_accuracy: 0.8930\n",
      "Epoch 15/20\n",
      "19381/19381 [==============================] - 153s 8ms/step - loss: 0.2862 - binary_accuracy: 0.8918 - val_loss: 0.2853 - val_binary_accuracy: 0.8930\n",
      "Epoch 16/20\n",
      "19381/19381 [==============================] - 154s 8ms/step - loss: 0.2858 - binary_accuracy: 0.8918 - val_loss: 0.2857 - val_binary_accuracy: 0.8920\n",
      "Epoch 17/20\n",
      "19381/19381 [==============================] - 151s 8ms/step - loss: 0.2854 - binary_accuracy: 0.8919 - val_loss: 0.2831 - val_binary_accuracy: 0.8934\n",
      "Epoch 18/20\n",
      "19381/19381 [==============================] - 154s 8ms/step - loss: 0.2849 - binary_accuracy: 0.8918 - val_loss: 0.2819 - val_binary_accuracy: 0.8940\n",
      "Epoch 19/20\n",
      "19381/19381 [==============================] - 138s 7ms/step - loss: 0.2846 - binary_accuracy: 0.8919 - val_loss: 0.2873 - val_binary_accuracy: 0.8911\n",
      "Epoch 20/20\n",
      "19381/19381 [==============================] - 140s 7ms/step - loss: 0.2842 - binary_accuracy: 0.8920 - val_loss: 0.2820 - val_binary_accuracy: 0.8935\n",
      "4846/4846 [==============================] - 14s 3ms/step\n"
     ]
    },
    {
     "name": "stderr",
     "output_type": "stream",
     "text": [
      "2022-07-25 22:30:32.311882: W tensorflow/stream_executor/platform/default/dso_loader.cc:64] Could not load dynamic library 'libcuda.so.1'; dlerror: libcuda.so.1: cannot open shared object file: No such file or directory\n",
      "2022-07-25 22:30:32.311944: W tensorflow/stream_executor/cuda/cuda_driver.cc:269] failed call to cuInit: UNKNOWN ERROR (303)\n",
      "2022-07-25 22:30:32.311993: I tensorflow/stream_executor/cuda/cuda_diagnostics.cc:156] kernel driver does not appear to be running on this host (localhost): /proc/driver/nvidia/version does not exist\n",
      "2022-07-25 22:30:32.312522: I tensorflow/core/platform/cpu_feature_guard.cc:193] This TensorFlow binary is optimized with oneAPI Deep Neural Network Library (oneDNN) to use the following CPU instructions in performance-critical operations:  AVX2 FMA\n",
      "To enable them in other operations, rebuild TensorFlow with the appropriate compiler flags.\n",
      "2022-07-25 22:30:32.902606: W tensorflow/core/framework/cpu_allocator_impl.cc:82] Allocation of 138917856 exceeds 10% of free system memory.\n"
     ]
    }
   ],
   "source": [
    "vae = VariationalAutoEncoder(original_dim, \n",
    "                             intermediate_dim, \n",
    "                             input_dim, \n",
    "                             half_input, \n",
    "                             latent_dim,\n",
    "                             )  \n",
    "#vae.compile(\n",
    "#               optimizer=tf.keras.optimizers.Adam(learning_rate=0.0005),  \n",
    "#               loss=tf.keras.losses.MeanSquaredError()\n",
    "#           )\n",
    "#vae.compile(\n",
    "#               optimizer=tf.keras.optimizers.Adam(learning_rate=0.0005),\n",
    "#               run_eagerly=True, loss=\"binary_crossentropy\",\n",
    "#               metrics = [tf.keras.metrics.BinaryAccuracy()]\n",
    "#           )\n",
    "#vae.compile(\n",
    "#               optimizer=tf.keras.optimizers.Adam(learning_rate=0.0005), \n",
    "#               loss_weights=[0.1],loss=\"binary_crossentropy\",\n",
    "#               metrics = [tf.keras.metrics.BinaryAccuracy()]\n",
    "#           )\n",
    "vae.compile(\n",
    "                optimizer=tf.keras.optimizers.Adam(learning_rate=0.0005),\n",
    "                loss=\"binary_crossentropy\",\n",
    "                metrics = [tf.keras.metrics.BinaryAccuracy()]\n",
    "            )\n",
    "hist = vae.fit(scaled_x_train,\n",
    "               y_train,\n",
    "               validation_data=(scaled_x_valid,y_valid), \n",
    "               epochs=epochs, \n",
    "               batch_size = batch_size) \n",
    "encoderDecoder =  EncoderDecoder(original_dim,\n",
    "                                 intermediate_dim,\n",
    "                                 input_dim,\n",
    "                                 half_input,\n",
    "                                 latent_dim)\n",
    "reco = encoderDecoder.predict(scaled_x_test)"
   ]
  },
  {
   "cell_type": "code",
   "execution_count": 22,
   "metadata": {},
   "outputs": [
    {
     "name": "stderr",
     "output_type": "stream",
     "text": [
      "WARNING:absl:Found untraced functions such as dense_15_layer_call_fn, dense_15_layer_call_and_return_conditional_losses, encoder_leakyrelu_1_layer_call_fn, encoder_leakyrelu_1_layer_call_and_return_conditional_losses, dense_16_layer_call_fn while saving (showing 5 of 50). These functions will not be directly callable after loading.\n"
     ]
    },
    {
     "name": "stdout",
     "output_type": "stream",
     "text": [
      "INFO:tensorflow:Assets written to: encoderDecoder_newModelUsingKL_Reco_Loss_newWayToAddUpSamples_50_10_7_10_20_64/assets\n"
     ]
    },
    {
     "name": "stderr",
     "output_type": "stream",
     "text": [
      "INFO:tensorflow:Assets written to: encoderDecoder_newModelUsingKL_Reco_Loss_newWayToAddUpSamples_50_10_7_10_20_64/assets\n"
     ]
    },
    {
     "name": "stdout",
     "output_type": "stream",
     "text": [
      "WARNING:tensorflow:Skipping full serialization of Keras layer <VAE_testDK_Reco_Loss.Encoder object at 0x7f0c354b75e0>, because it is not built.\n"
     ]
    },
    {
     "name": "stderr",
     "output_type": "stream",
     "text": [
      "WARNING:tensorflow:Skipping full serialization of Keras layer <VAE_testDK_Reco_Loss.Encoder object at 0x7f0c354b75e0>, because it is not built.\n"
     ]
    },
    {
     "name": "stdout",
     "output_type": "stream",
     "text": [
      "WARNING:tensorflow:Skipping full serialization of Keras layer <VAE_testDK_Reco_Loss.Decoder object at 0x7f0c1824cc70>, because it is not built.\n"
     ]
    },
    {
     "name": "stderr",
     "output_type": "stream",
     "text": [
      "WARNING:tensorflow:Skipping full serialization of Keras layer <VAE_testDK_Reco_Loss.Decoder object at 0x7f0c1824cc70>, because it is not built.\n"
     ]
    },
    {
     "name": "stdout",
     "output_type": "stream",
     "text": [
      "WARNING:tensorflow:Skipping full serialization of Keras layer <VAE_testDK_Reco_Loss.classifier object at 0x7f0c354b7a00>, because it is not built.\n"
     ]
    },
    {
     "name": "stderr",
     "output_type": "stream",
     "text": [
      "WARNING:tensorflow:Skipping full serialization of Keras layer <VAE_testDK_Reco_Loss.classifier object at 0x7f0c354b7a00>, because it is not built.\n",
      "WARNING:absl:Found untraced functions such as dense_layer_call_fn, dense_layer_call_and_return_conditional_losses, encoder_leakyrelu_1_layer_call_fn, encoder_leakyrelu_1_layer_call_and_return_conditional_losses, dense_1_layer_call_fn while saving (showing 5 of 54). These functions will not be directly callable after loading.\n"
     ]
    },
    {
     "name": "stdout",
     "output_type": "stream",
     "text": [
      "INFO:tensorflow:Assets written to: vae_newModelUsingKL_Reco_Loss_newWayToAddUpSamples_50_10_7_10_20_64/assets\n"
     ]
    },
    {
     "name": "stderr",
     "output_type": "stream",
     "text": [
      "INFO:tensorflow:Assets written to: vae_newModelUsingKL_Reco_Loss_newWayToAddUpSamples_50_10_7_10_20_64/assets\n"
     ]
    }
   ],
   "source": [
    "keras.models.save_model(encoderDecoder,'encoderDecoder_newModelUsingKL_Reco_Loss_newWayToAddUpSamples_'+nameExtenstion)\n",
    "keras.models.save_model(vae,'vae_newModelUsingKL_Reco_Loss_newWayToAddUpSamples_'+nameExtenstion)\n",
    "#numpy.savetxt(\"lossVAE_test_newModelDimenstions_MinMaxScaler_\"+nameExtenstion+\".csv\",hist.history[\"loss\"],delimiter=\",\")\n",
    "#vae=tf.keras.models.load_model('vae_test_newModelUsingLatentSpace_'+nameExtenstion)"
   ]
  },
  {
   "cell_type": "code",
   "execution_count": 23,
   "metadata": {},
   "outputs": [
    {
     "name": "stdout",
     "output_type": "stream",
     "text": [
      "4846/4846 [==============================] - 14s 3ms/step\n"
     ]
    }
   ],
   "source": [
    "output_SM = vae.predict(SM_test)\n",
    "output_BSM = vae.predict(BSM_test)"
   ]
  },
  {
   "cell_type": "code",
   "execution_count": 24,
   "metadata": {},
   "outputs": [
    {
     "data": {
      "image/png": "[encoded data removed]",
      "text/plain": [
       "<Figure size 700x500 with 1 Axes>"
      ]
     },
     "metadata": {},
     "output_type": "display_data"
    }
   ],
   "source": [
    "#print output_SM\n",
    "#print output_BSM\n",
    "bins=100\n",
    "ax = plt.figure(figsize=(7,5), dpi=100, facecolor=\"w\").add_subplot(111)\n",
    "ax.xaxis.grid(True, which=\"major\")\n",
    "ax.yaxis.grid(True, which=\"major\")\n",
    "ax.hist(output_SM,\n",
    "        bins=bins, \n",
    "        density=1,\n",
    "        range=[0.,1.],\n",
    "        histtype=\"step\",\n",
    "        color=\"red\",\n",
    "        alpha=0.6,\n",
    "        linewidth=2,\n",
    "        label=\"SM Output\",)                        \n",
    "ax.hist(output_BSM,\n",
    "        bins=bins, \n",
    "        density=1,\n",
    "        range=[0.,1.],\n",
    "        histtype=\"step\",\n",
    "        color=\"blue\",\n",
    "        alpha=0.6,\n",
    "        linewidth=2,\n",
    "        label=\"BSM Output\",)                        \n",
    "plt.rc('legend',fontsize='small')    \n",
    "plt.show()"
   ]
  },
  {
   "cell_type": "code",
   "execution_count": 25,
   "metadata": {},
   "outputs": [
    {
     "data": {
      "image/png": "[encoded data removed]",
      "text/plain": [
       "<Figure size 700x500 with 1 Axes>"
      ]
     },
     "metadata": {},
     "output_type": "display_data"
    }
   ],
   "source": [
    "x_bins = range(len(hist.history[\"loss\"]))\n",
    "ax = plt.figure(figsize=(7,5), dpi=100, facecolor=\"w\").add_subplot(111)\n",
    "ax.xaxis.grid(True, which=\"major\")\n",
    "ax.yaxis.grid(True, which=\"major\")\n",
    "ax.plot(x_bins,hist.history[\"loss\"],color=\"blue\",label=\"training losss\")                        \n",
    "plt.rc('legend',fontsize='small')    \n",
    "plt.show()"
   ]
  },
  {
   "cell_type": "code",
   "execution_count": null,
   "metadata": {},
   "outputs": [],
   "source": []
  }
 ],
 "metadata": {
  "kernelspec": {
   "display_name": "Python 3.8.10 64-bit",
   "language": "python",
   "name": "python3"
  },
  "language_info": {
   "codemirror_mode": {
    "name": "ipython",
    "version": 3
   },
   "file_extension": ".py",
   "mimetype": "text/x-python",
   "name": "python",
   "nbconvert_exporter": "python",
   "pygments_lexer": "ipython3",
   "version": "3.8.10"
  },
  "orig_nbformat": 4,
  "vscode": {
   "interpreter": {
    "hash": "916dbcbb3f70747c44a77c7bcd40155683ae19c65e1c03b4aa3499c5328201f1"
   }
  }
 },
 "nbformat": 4,
 "nbformat_minor": 2
}
